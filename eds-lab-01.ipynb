{
 "cells": [
  {
   "cell_type": "markdown",
   "id": "20b781cc",
   "metadata": {
    "id": "JDeGBWNkUd2G",
    "papermill": {
     "duration": 0.009246,
     "end_time": "2024-03-11T08:57:05.497609",
     "exception": false,
     "start_time": "2024-03-11T08:57:05.488363",
     "status": "completed"
    },
    "tags": []
   },
   "source": [
    "#  Environmental Data Science (Lab-01)\n",
    "\n",
    "**Objectives**:\n",
    "\n",
    "- Preprocess the dataset to handle missing values, outliers, and prepare it for machine learning algorithms.\n",
    "- Perform exploratory data analysis (EDA) to gain insights into the data distribution, relationships between features, and identify potential patterns.\n",
    "- Develop machine learning models to predict the concentrations of different GT.\n",
    "- Evaluate the performance of machine learning models using appropriate metrics such as RMSE (Root Mean Squared Error) and R^2 Score.\n",
    "- Compare the performance of different machine learning algorithms (Linear Regression, KNeighborsRegressor, RandomForestRegressor) to find the most suitable model for the task.\n",
    "\n",
    "**Goals**:\n",
    "\n",
    "- Preprocess the dataset to ensure that it is suitable for analysis and modeling.\n",
    "- Handle missing values, by replacing them with appropriate strategies.\n",
    "- Identify and handle outliers in the dataset using quantile-based techniques and visualize the cleaned dataset.\n",
    "- Explore the relationships between different features using correlation analysis and visualize the correlations using a heatmap.\n",
    "- Select relevant features and target variables for modeling based on correlation analysis and domain knowledge.\n",
    "- Develop machine learning models (e.g., Linear Regression, KNeighborsRegressor, RandomForestRegressor).\n",
    "- Train and evaluate the performance of each model."
   ]
  },
  {
   "cell_type": "markdown",
   "id": "f8299402",
   "metadata": {
    "papermill": {
     "duration": 0.007632,
     "end_time": "2024-03-11T08:57:05.513082",
     "exception": false,
     "start_time": "2024-03-11T08:57:05.505450",
     "status": "completed"
    },
    "tags": []
   },
   "source": [
    "# Dataset <a href=\"https://archive.ics.uci.edu/dataset/360/air+quality\">Link</a>\n",
    "<p>\n",
    "The dataset contains 9358 instances of hourly averaged responses from an array of 5 metal oxide chemical sensors embedded in an Air Quality Chemical Multisensor Device. The device was located on the field in a significantly polluted area, at road level,within an Italian city. Data were recorded from March 2004 to February 2005 (one year)representing the longest freely available recordings of on field deployed air quality chemical sensor devices responses. Ground Truth hourly averaged concentrations for CO, Non Metanic Hydrocarbons, Benzene, Total Nitrogen Oxides (NOx) and Nitrogen Dioxide (NO2)  and were provided by a co-located reference certified analyzer. Evidences of cross-sensitivities as well as both concept and sensor drifts are present as described in De Vito et al., Sens. And Act. B, Vol. 129,2,2008 (citation required) eventually affecting sensors concentration estimation capabilities. Missing values are tagged with -200 value.\n",
    "</p>\n",
    "\n",
    "<center><b>For more detail read description of the dataset</b></center>"
   ]
  },
  {
   "cell_type": "code",
   "execution_count": 1,
   "id": "d304457a",
   "metadata": {
    "execution": {
     "iopub.execute_input": "2024-03-11T08:57:05.530464Z",
     "iopub.status.busy": "2024-03-11T08:57:05.529875Z",
     "iopub.status.idle": "2024-03-11T08:57:07.893458Z",
     "shell.execute_reply": "2024-03-11T08:57:07.892529Z"
    },
    "executionInfo": {
     "elapsed": 356,
     "status": "ok",
     "timestamp": 1710141596837,
     "user": {
      "displayName": "Shahid Zikria",
      "userId": "08047117160906109752"
     },
     "user_tz": -300
    },
    "id": "JoGqa1qKwJEh",
    "papermill": {
     "duration": 2.374921,
     "end_time": "2024-03-11T08:57:07.895779",
     "exception": false,
     "start_time": "2024-03-11T08:57:05.520858",
     "status": "completed"
    },
    "tags": []
   },
   "outputs": [],
   "source": [
    "import pandas as pd\n",
    "import matplotlib.pyplot as plt\n",
    "import seaborn as sns\n",
    "import numpy as np\n",
    "from sklearn.model_selection import train_test_split\n",
    "from sklearn.ensemble import RandomForestRegressor\n",
    "from sklearn.neighbors import KNeighborsClassifier, KNeighborsRegressor\n",
    "from sklearn.metrics import mean_squared_error, r2_score\n",
    "from sklearn.linear_model import LinearRegression\n",
    "\n",
    "# read the CSV file into a DataFrame\n",
    "df = pd.read_csv(\"/kaggle/input/air-quality-data-set/AirQuality.csv\", sep=\";\", decimal=\",\")"
   ]
  },
  {
   "cell_type": "code",
   "execution_count": 2,
   "id": "6483c67f",
   "metadata": {
    "execution": {
     "iopub.execute_input": "2024-03-11T08:57:07.914100Z",
     "iopub.status.busy": "2024-03-11T08:57:07.913801Z",
     "iopub.status.idle": "2024-03-11T08:57:07.939422Z",
     "shell.execute_reply": "2024-03-11T08:57:07.938365Z"
    },
    "executionInfo": {
     "elapsed": 481,
     "status": "ok",
     "timestamp": 1710141599051,
     "user": {
      "displayName": "Shahid Zikria",
      "userId": "08047117160906109752"
     },
     "user_tz": -300
    },
    "id": "Xtu2tTcLwJEk",
    "outputId": "c7ddf02d-3571-448e-a93e-879231f7ed46",
    "papermill": {
     "duration": 0.037267,
     "end_time": "2024-03-11T08:57:07.941290",
     "exception": false,
     "start_time": "2024-03-11T08:57:07.904023",
     "status": "completed"
    },
    "tags": []
   },
   "outputs": [
    {
     "name": "stdout",
     "output_type": "stream",
     "text": [
      "First few rows of the dataset:\n"
     ]
    },
    {
     "data": {
      "text/html": [
       "<div>\n",
       "<style scoped>\n",
       "    .dataframe tbody tr th:only-of-type {\n",
       "        vertical-align: middle;\n",
       "    }\n",
       "\n",
       "    .dataframe tbody tr th {\n",
       "        vertical-align: top;\n",
       "    }\n",
       "\n",
       "    .dataframe thead th {\n",
       "        text-align: right;\n",
       "    }\n",
       "</style>\n",
       "<table border=\"1\" class=\"dataframe\">\n",
       "  <thead>\n",
       "    <tr style=\"text-align: right;\">\n",
       "      <th></th>\n",
       "      <th>Date</th>\n",
       "      <th>Time</th>\n",
       "      <th>CO(GT)</th>\n",
       "      <th>PT08.S1(CO)</th>\n",
       "      <th>NMHC(GT)</th>\n",
       "      <th>C6H6(GT)</th>\n",
       "      <th>PT08.S2(NMHC)</th>\n",
       "      <th>NOx(GT)</th>\n",
       "      <th>PT08.S3(NOx)</th>\n",
       "      <th>NO2(GT)</th>\n",
       "      <th>PT08.S4(NO2)</th>\n",
       "      <th>PT08.S5(O3)</th>\n",
       "      <th>T</th>\n",
       "      <th>RH</th>\n",
       "      <th>AH</th>\n",
       "      <th>Unnamed: 15</th>\n",
       "      <th>Unnamed: 16</th>\n",
       "    </tr>\n",
       "  </thead>\n",
       "  <tbody>\n",
       "    <tr>\n",
       "      <th>0</th>\n",
       "      <td>10/03/2004</td>\n",
       "      <td>18.00.00</td>\n",
       "      <td>2.6</td>\n",
       "      <td>1360.0</td>\n",
       "      <td>150.0</td>\n",
       "      <td>11.9</td>\n",
       "      <td>1046.0</td>\n",
       "      <td>166.0</td>\n",
       "      <td>1056.0</td>\n",
       "      <td>113.0</td>\n",
       "      <td>1692.0</td>\n",
       "      <td>1268.0</td>\n",
       "      <td>13.6</td>\n",
       "      <td>48.9</td>\n",
       "      <td>0.7578</td>\n",
       "      <td>NaN</td>\n",
       "      <td>NaN</td>\n",
       "    </tr>\n",
       "    <tr>\n",
       "      <th>1</th>\n",
       "      <td>10/03/2004</td>\n",
       "      <td>19.00.00</td>\n",
       "      <td>2.0</td>\n",
       "      <td>1292.0</td>\n",
       "      <td>112.0</td>\n",
       "      <td>9.4</td>\n",
       "      <td>955.0</td>\n",
       "      <td>103.0</td>\n",
       "      <td>1174.0</td>\n",
       "      <td>92.0</td>\n",
       "      <td>1559.0</td>\n",
       "      <td>972.0</td>\n",
       "      <td>13.3</td>\n",
       "      <td>47.7</td>\n",
       "      <td>0.7255</td>\n",
       "      <td>NaN</td>\n",
       "      <td>NaN</td>\n",
       "    </tr>\n",
       "    <tr>\n",
       "      <th>2</th>\n",
       "      <td>10/03/2004</td>\n",
       "      <td>20.00.00</td>\n",
       "      <td>2.2</td>\n",
       "      <td>1402.0</td>\n",
       "      <td>88.0</td>\n",
       "      <td>9.0</td>\n",
       "      <td>939.0</td>\n",
       "      <td>131.0</td>\n",
       "      <td>1140.0</td>\n",
       "      <td>114.0</td>\n",
       "      <td>1555.0</td>\n",
       "      <td>1074.0</td>\n",
       "      <td>11.9</td>\n",
       "      <td>54.0</td>\n",
       "      <td>0.7502</td>\n",
       "      <td>NaN</td>\n",
       "      <td>NaN</td>\n",
       "    </tr>\n",
       "    <tr>\n",
       "      <th>3</th>\n",
       "      <td>10/03/2004</td>\n",
       "      <td>21.00.00</td>\n",
       "      <td>2.2</td>\n",
       "      <td>1376.0</td>\n",
       "      <td>80.0</td>\n",
       "      <td>9.2</td>\n",
       "      <td>948.0</td>\n",
       "      <td>172.0</td>\n",
       "      <td>1092.0</td>\n",
       "      <td>122.0</td>\n",
       "      <td>1584.0</td>\n",
       "      <td>1203.0</td>\n",
       "      <td>11.0</td>\n",
       "      <td>60.0</td>\n",
       "      <td>0.7867</td>\n",
       "      <td>NaN</td>\n",
       "      <td>NaN</td>\n",
       "    </tr>\n",
       "    <tr>\n",
       "      <th>4</th>\n",
       "      <td>10/03/2004</td>\n",
       "      <td>22.00.00</td>\n",
       "      <td>1.6</td>\n",
       "      <td>1272.0</td>\n",
       "      <td>51.0</td>\n",
       "      <td>6.5</td>\n",
       "      <td>836.0</td>\n",
       "      <td>131.0</td>\n",
       "      <td>1205.0</td>\n",
       "      <td>116.0</td>\n",
       "      <td>1490.0</td>\n",
       "      <td>1110.0</td>\n",
       "      <td>11.2</td>\n",
       "      <td>59.6</td>\n",
       "      <td>0.7888</td>\n",
       "      <td>NaN</td>\n",
       "      <td>NaN</td>\n",
       "    </tr>\n",
       "  </tbody>\n",
       "</table>\n",
       "</div>"
      ],
      "text/plain": [
       "         Date      Time  CO(GT)  PT08.S1(CO)  NMHC(GT)  C6H6(GT)  \\\n",
       "0  10/03/2004  18.00.00     2.6       1360.0     150.0      11.9   \n",
       "1  10/03/2004  19.00.00     2.0       1292.0     112.0       9.4   \n",
       "2  10/03/2004  20.00.00     2.2       1402.0      88.0       9.0   \n",
       "3  10/03/2004  21.00.00     2.2       1376.0      80.0       9.2   \n",
       "4  10/03/2004  22.00.00     1.6       1272.0      51.0       6.5   \n",
       "\n",
       "   PT08.S2(NMHC)  NOx(GT)  PT08.S3(NOx)  NO2(GT)  PT08.S4(NO2)  PT08.S5(O3)  \\\n",
       "0         1046.0    166.0        1056.0    113.0        1692.0       1268.0   \n",
       "1          955.0    103.0        1174.0     92.0        1559.0        972.0   \n",
       "2          939.0    131.0        1140.0    114.0        1555.0       1074.0   \n",
       "3          948.0    172.0        1092.0    122.0        1584.0       1203.0   \n",
       "4          836.0    131.0        1205.0    116.0        1490.0       1110.0   \n",
       "\n",
       "      T    RH      AH  Unnamed: 15  Unnamed: 16  \n",
       "0  13.6  48.9  0.7578          NaN          NaN  \n",
       "1  13.3  47.7  0.7255          NaN          NaN  \n",
       "2  11.9  54.0  0.7502          NaN          NaN  \n",
       "3  11.0  60.0  0.7867          NaN          NaN  \n",
       "4  11.2  59.6  0.7888          NaN          NaN  "
      ]
     },
     "execution_count": 2,
     "metadata": {},
     "output_type": "execute_result"
    }
   ],
   "source": [
    "print(\"First few rows of the dataset:\")\n",
    "df.head()"
   ]
  },
  {
   "cell_type": "code",
   "execution_count": 3,
   "id": "c473ef84",
   "metadata": {
    "execution": {
     "iopub.execute_input": "2024-03-11T08:57:07.959958Z",
     "iopub.status.busy": "2024-03-11T08:57:07.959619Z",
     "iopub.status.idle": "2024-03-11T08:57:08.330820Z",
     "shell.execute_reply": "2024-03-11T08:57:08.329819Z"
    },
    "executionInfo": {
     "elapsed": 3246,
     "status": "ok",
     "timestamp": 1710141606282,
     "user": {
      "displayName": "Shahid Zikria",
      "userId": "08047117160906109752"
     },
     "user_tz": -300
    },
    "id": "Fbukeibz0wc6",
    "outputId": "89a8897d-a942-497b-ebf5-fddc5449cfb5",
    "papermill": {
     "duration": 0.383214,
     "end_time": "2024-03-11T08:57:08.333273",
     "exception": false,
     "start_time": "2024-03-11T08:57:07.950059",
     "status": "completed"
    },
    "tags": []
   },
   "outputs": [
    {
     "data": {
      "image/png": "[encoded data removed]",
      "text/plain": [
       "<Figure size 640x480 with 2 Axes>"
      ]
     },
     "metadata": {},
     "output_type": "display_data"
    }
   ],
   "source": [
    "sns.heatmap(df.isna(),yticklabels=False,cmap='crest')\n",
    "plt.show()"
   ]
  },
  {
   "cell_type": "code",
   "execution_count": 4,
   "id": "8c453f89",
   "metadata": {
    "execution": {
     "iopub.execute_input": "2024-03-11T08:57:08.352672Z",
     "iopub.status.busy": "2024-03-11T08:57:08.352025Z",
     "iopub.status.idle": "2024-03-11T08:57:08.376727Z",
     "shell.execute_reply": "2024-03-11T08:57:08.375789Z"
    },
    "executionInfo": {
     "elapsed": 757,
     "status": "ok",
     "timestamp": 1710141608374,
     "user": {
      "displayName": "Shahid Zikria",
      "userId": "08047117160906109752"
     },
     "user_tz": -300
    },
    "id": "YrkoRisowJEl",
    "outputId": "d6d5ca94-08f9-4697-fc47-e9b42cb8f0e3",
    "papermill": {
     "duration": 0.036308,
     "end_time": "2024-03-11T08:57:08.378611",
     "exception": false,
     "start_time": "2024-03-11T08:57:08.342303",
     "status": "completed"
    },
    "tags": []
   },
   "outputs": [
    {
     "data": {
      "text/html": [
       "<div>\n",
       "<style scoped>\n",
       "    .dataframe tbody tr th:only-of-type {\n",
       "        vertical-align: middle;\n",
       "    }\n",
       "\n",
       "    .dataframe tbody tr th {\n",
       "        vertical-align: top;\n",
       "    }\n",
       "\n",
       "    .dataframe thead th {\n",
       "        text-align: right;\n",
       "    }\n",
       "</style>\n",
       "<table border=\"1\" class=\"dataframe\">\n",
       "  <thead>\n",
       "    <tr style=\"text-align: right;\">\n",
       "      <th></th>\n",
       "      <th>Date</th>\n",
       "      <th>Time</th>\n",
       "      <th>CO(GT)</th>\n",
       "      <th>PT08.S1(CO)</th>\n",
       "      <th>NMHC(GT)</th>\n",
       "      <th>C6H6(GT)</th>\n",
       "      <th>PT08.S2(NMHC)</th>\n",
       "      <th>NOx(GT)</th>\n",
       "      <th>PT08.S3(NOx)</th>\n",
       "      <th>NO2(GT)</th>\n",
       "      <th>PT08.S4(NO2)</th>\n",
       "      <th>PT08.S5(O3)</th>\n",
       "      <th>T</th>\n",
       "      <th>RH</th>\n",
       "      <th>AH</th>\n",
       "    </tr>\n",
       "  </thead>\n",
       "  <tbody>\n",
       "    <tr>\n",
       "      <th>0</th>\n",
       "      <td>10/03/2004</td>\n",
       "      <td>18.00.00</td>\n",
       "      <td>2.6</td>\n",
       "      <td>1360.0</td>\n",
       "      <td>150.0</td>\n",
       "      <td>11.9</td>\n",
       "      <td>1046.0</td>\n",
       "      <td>166.0</td>\n",
       "      <td>1056.0</td>\n",
       "      <td>113.0</td>\n",
       "      <td>1692.0</td>\n",
       "      <td>1268.0</td>\n",
       "      <td>13.6</td>\n",
       "      <td>48.9</td>\n",
       "      <td>0.7578</td>\n",
       "    </tr>\n",
       "    <tr>\n",
       "      <th>1</th>\n",
       "      <td>10/03/2004</td>\n",
       "      <td>19.00.00</td>\n",
       "      <td>2.0</td>\n",
       "      <td>1292.0</td>\n",
       "      <td>112.0</td>\n",
       "      <td>9.4</td>\n",
       "      <td>955.0</td>\n",
       "      <td>103.0</td>\n",
       "      <td>1174.0</td>\n",
       "      <td>92.0</td>\n",
       "      <td>1559.0</td>\n",
       "      <td>972.0</td>\n",
       "      <td>13.3</td>\n",
       "      <td>47.7</td>\n",
       "      <td>0.7255</td>\n",
       "    </tr>\n",
       "    <tr>\n",
       "      <th>2</th>\n",
       "      <td>10/03/2004</td>\n",
       "      <td>20.00.00</td>\n",
       "      <td>2.2</td>\n",
       "      <td>1402.0</td>\n",
       "      <td>88.0</td>\n",
       "      <td>9.0</td>\n",
       "      <td>939.0</td>\n",
       "      <td>131.0</td>\n",
       "      <td>1140.0</td>\n",
       "      <td>114.0</td>\n",
       "      <td>1555.0</td>\n",
       "      <td>1074.0</td>\n",
       "      <td>11.9</td>\n",
       "      <td>54.0</td>\n",
       "      <td>0.7502</td>\n",
       "    </tr>\n",
       "    <tr>\n",
       "      <th>3</th>\n",
       "      <td>10/03/2004</td>\n",
       "      <td>21.00.00</td>\n",
       "      <td>2.2</td>\n",
       "      <td>1376.0</td>\n",
       "      <td>80.0</td>\n",
       "      <td>9.2</td>\n",
       "      <td>948.0</td>\n",
       "      <td>172.0</td>\n",
       "      <td>1092.0</td>\n",
       "      <td>122.0</td>\n",
       "      <td>1584.0</td>\n",
       "      <td>1203.0</td>\n",
       "      <td>11.0</td>\n",
       "      <td>60.0</td>\n",
       "      <td>0.7867</td>\n",
       "    </tr>\n",
       "    <tr>\n",
       "      <th>4</th>\n",
       "      <td>10/03/2004</td>\n",
       "      <td>22.00.00</td>\n",
       "      <td>1.6</td>\n",
       "      <td>1272.0</td>\n",
       "      <td>51.0</td>\n",
       "      <td>6.5</td>\n",
       "      <td>836.0</td>\n",
       "      <td>131.0</td>\n",
       "      <td>1205.0</td>\n",
       "      <td>116.0</td>\n",
       "      <td>1490.0</td>\n",
       "      <td>1110.0</td>\n",
       "      <td>11.2</td>\n",
       "      <td>59.6</td>\n",
       "      <td>0.7888</td>\n",
       "    </tr>\n",
       "  </tbody>\n",
       "</table>\n",
       "</div>"
      ],
      "text/plain": [
       "         Date      Time  CO(GT)  PT08.S1(CO)  NMHC(GT)  C6H6(GT)  \\\n",
       "0  10/03/2004  18.00.00     2.6       1360.0     150.0      11.9   \n",
       "1  10/03/2004  19.00.00     2.0       1292.0     112.0       9.4   \n",
       "2  10/03/2004  20.00.00     2.2       1402.0      88.0       9.0   \n",
       "3  10/03/2004  21.00.00     2.2       1376.0      80.0       9.2   \n",
       "4  10/03/2004  22.00.00     1.6       1272.0      51.0       6.5   \n",
       "\n",
       "   PT08.S2(NMHC)  NOx(GT)  PT08.S3(NOx)  NO2(GT)  PT08.S4(NO2)  PT08.S5(O3)  \\\n",
       "0         1046.0    166.0        1056.0    113.0        1692.0       1268.0   \n",
       "1          955.0    103.0        1174.0     92.0        1559.0        972.0   \n",
       "2          939.0    131.0        1140.0    114.0        1555.0       1074.0   \n",
       "3          948.0    172.0        1092.0    122.0        1584.0       1203.0   \n",
       "4          836.0    131.0        1205.0    116.0        1490.0       1110.0   \n",
       "\n",
       "      T    RH      AH  \n",
       "0  13.6  48.9  0.7578  \n",
       "1  13.3  47.7  0.7255  \n",
       "2  11.9  54.0  0.7502  \n",
       "3  11.0  60.0  0.7867  \n",
       "4  11.2  59.6  0.7888  "
      ]
     },
     "execution_count": 4,
     "metadata": {},
     "output_type": "execute_result"
    }
   ],
   "source": [
    "df = df.loc[:, ~df.columns.str.contains('^Unnamed')]\n",
    "df.head()"
   ]
  },
  {
   "cell_type": "code",
   "execution_count": 5,
   "id": "6b8296fe",
   "metadata": {
    "execution": {
     "iopub.execute_input": "2024-03-11T08:57:08.397871Z",
     "iopub.status.busy": "2024-03-11T08:57:08.397585Z",
     "iopub.status.idle": "2024-03-11T08:57:08.412863Z",
     "shell.execute_reply": "2024-03-11T08:57:08.411968Z"
    },
    "executionInfo": {
     "elapsed": 11,
     "status": "ok",
     "timestamp": 1710141608375,
     "user": {
      "displayName": "Shahid Zikria",
      "userId": "08047117160906109752"
     },
     "user_tz": -300
    },
    "id": "UI81Mr3izo7Q",
    "outputId": "f9b7334b-9706-4b64-f11b-d87ff5a2f32f",
    "papermill": {
     "duration": 0.026642,
     "end_time": "2024-03-11T08:57:08.414550",
     "exception": false,
     "start_time": "2024-03-11T08:57:08.387908",
     "status": "completed"
    },
    "tags": []
   },
   "outputs": [
    {
     "data": {
      "text/html": [
       "<div>\n",
       "<style scoped>\n",
       "    .dataframe tbody tr th:only-of-type {\n",
       "        vertical-align: middle;\n",
       "    }\n",
       "\n",
       "    .dataframe tbody tr th {\n",
       "        vertical-align: top;\n",
       "    }\n",
       "\n",
       "    .dataframe thead th {\n",
       "        text-align: right;\n",
       "    }\n",
       "</style>\n",
       "<table border=\"1\" class=\"dataframe\">\n",
       "  <thead>\n",
       "    <tr style=\"text-align: right;\">\n",
       "      <th></th>\n",
       "      <th>Date</th>\n",
       "      <th>Time</th>\n",
       "      <th>CO(GT)</th>\n",
       "      <th>PT08.S1(CO)</th>\n",
       "      <th>NMHC(GT)</th>\n",
       "      <th>C6H6(GT)</th>\n",
       "      <th>PT08.S2(NMHC)</th>\n",
       "      <th>NOx(GT)</th>\n",
       "      <th>PT08.S3(NOx)</th>\n",
       "      <th>NO2(GT)</th>\n",
       "      <th>PT08.S4(NO2)</th>\n",
       "      <th>PT08.S5(O3)</th>\n",
       "      <th>T</th>\n",
       "      <th>RH</th>\n",
       "      <th>AH</th>\n",
       "    </tr>\n",
       "  </thead>\n",
       "  <tbody>\n",
       "    <tr>\n",
       "      <th>9466</th>\n",
       "      <td>NaN</td>\n",
       "      <td>NaN</td>\n",
       "      <td>NaN</td>\n",
       "      <td>NaN</td>\n",
       "      <td>NaN</td>\n",
       "      <td>NaN</td>\n",
       "      <td>NaN</td>\n",
       "      <td>NaN</td>\n",
       "      <td>NaN</td>\n",
       "      <td>NaN</td>\n",
       "      <td>NaN</td>\n",
       "      <td>NaN</td>\n",
       "      <td>NaN</td>\n",
       "      <td>NaN</td>\n",
       "      <td>NaN</td>\n",
       "    </tr>\n",
       "    <tr>\n",
       "      <th>9467</th>\n",
       "      <td>NaN</td>\n",
       "      <td>NaN</td>\n",
       "      <td>NaN</td>\n",
       "      <td>NaN</td>\n",
       "      <td>NaN</td>\n",
       "      <td>NaN</td>\n",
       "      <td>NaN</td>\n",
       "      <td>NaN</td>\n",
       "      <td>NaN</td>\n",
       "      <td>NaN</td>\n",
       "      <td>NaN</td>\n",
       "      <td>NaN</td>\n",
       "      <td>NaN</td>\n",
       "      <td>NaN</td>\n",
       "      <td>NaN</td>\n",
       "    </tr>\n",
       "    <tr>\n",
       "      <th>9468</th>\n",
       "      <td>NaN</td>\n",
       "      <td>NaN</td>\n",
       "      <td>NaN</td>\n",
       "      <td>NaN</td>\n",
       "      <td>NaN</td>\n",
       "      <td>NaN</td>\n",
       "      <td>NaN</td>\n",
       "      <td>NaN</td>\n",
       "      <td>NaN</td>\n",
       "      <td>NaN</td>\n",
       "      <td>NaN</td>\n",
       "      <td>NaN</td>\n",
       "      <td>NaN</td>\n",
       "      <td>NaN</td>\n",
       "      <td>NaN</td>\n",
       "    </tr>\n",
       "    <tr>\n",
       "      <th>9469</th>\n",
       "      <td>NaN</td>\n",
       "      <td>NaN</td>\n",
       "      <td>NaN</td>\n",
       "      <td>NaN</td>\n",
       "      <td>NaN</td>\n",
       "      <td>NaN</td>\n",
       "      <td>NaN</td>\n",
       "      <td>NaN</td>\n",
       "      <td>NaN</td>\n",
       "      <td>NaN</td>\n",
       "      <td>NaN</td>\n",
       "      <td>NaN</td>\n",
       "      <td>NaN</td>\n",
       "      <td>NaN</td>\n",
       "      <td>NaN</td>\n",
       "    </tr>\n",
       "    <tr>\n",
       "      <th>9470</th>\n",
       "      <td>NaN</td>\n",
       "      <td>NaN</td>\n",
       "      <td>NaN</td>\n",
       "      <td>NaN</td>\n",
       "      <td>NaN</td>\n",
       "      <td>NaN</td>\n",
       "      <td>NaN</td>\n",
       "      <td>NaN</td>\n",
       "      <td>NaN</td>\n",
       "      <td>NaN</td>\n",
       "      <td>NaN</td>\n",
       "      <td>NaN</td>\n",
       "      <td>NaN</td>\n",
       "      <td>NaN</td>\n",
       "      <td>NaN</td>\n",
       "    </tr>\n",
       "  </tbody>\n",
       "</table>\n",
       "</div>"
      ],
      "text/plain": [
       "     Date Time  CO(GT)  PT08.S1(CO)  NMHC(GT)  C6H6(GT)  PT08.S2(NMHC)  \\\n",
       "9466  NaN  NaN     NaN          NaN       NaN       NaN            NaN   \n",
       "9467  NaN  NaN     NaN          NaN       NaN       NaN            NaN   \n",
       "9468  NaN  NaN     NaN          NaN       NaN       NaN            NaN   \n",
       "9469  NaN  NaN     NaN          NaN       NaN       NaN            NaN   \n",
       "9470  NaN  NaN     NaN          NaN       NaN       NaN            NaN   \n",
       "\n",
       "      NOx(GT)  PT08.S3(NOx)  NO2(GT)  PT08.S4(NO2)  PT08.S5(O3)   T  RH  AH  \n",
       "9466      NaN           NaN      NaN           NaN          NaN NaN NaN NaN  \n",
       "9467      NaN           NaN      NaN           NaN          NaN NaN NaN NaN  \n",
       "9468      NaN           NaN      NaN           NaN          NaN NaN NaN NaN  \n",
       "9469      NaN           NaN      NaN           NaN          NaN NaN NaN NaN  \n",
       "9470      NaN           NaN      NaN           NaN          NaN NaN NaN NaN  "
      ]
     },
     "execution_count": 5,
     "metadata": {},
     "output_type": "execute_result"
    }
   ],
   "source": [
    "df.tail()"
   ]
  },
  {
   "cell_type": "code",
   "execution_count": 6,
   "id": "e0b24f75",
   "metadata": {
    "execution": {
     "iopub.execute_input": "2024-03-11T08:57:08.435960Z",
     "iopub.status.busy": "2024-03-11T08:57:08.435334Z",
     "iopub.status.idle": "2024-03-11T08:57:08.456287Z",
     "shell.execute_reply": "2024-03-11T08:57:08.455296Z"
    },
    "executionInfo": {
     "elapsed": 9,
     "status": "ok",
     "timestamp": 1710141609022,
     "user": {
      "displayName": "Shahid Zikria",
      "userId": "08047117160906109752"
     },
     "user_tz": -300
    },
    "id": "AMb8HYTb1tg2",
    "outputId": "e268ba59-635f-4e26-fd7a-0ef2aaae2e41",
    "papermill": {
     "duration": 0.033246,
     "end_time": "2024-03-11T08:57:08.457876",
     "exception": false,
     "start_time": "2024-03-11T08:57:08.424630",
     "status": "completed"
    },
    "tags": []
   },
   "outputs": [
    {
     "data": {
      "text/html": [
       "<div>\n",
       "<style scoped>\n",
       "    .dataframe tbody tr th:only-of-type {\n",
       "        vertical-align: middle;\n",
       "    }\n",
       "\n",
       "    .dataframe tbody tr th {\n",
       "        vertical-align: top;\n",
       "    }\n",
       "\n",
       "    .dataframe thead th {\n",
       "        text-align: right;\n",
       "    }\n",
       "</style>\n",
       "<table border=\"1\" class=\"dataframe\">\n",
       "  <thead>\n",
       "    <tr style=\"text-align: right;\">\n",
       "      <th></th>\n",
       "      <th>Date</th>\n",
       "      <th>Time</th>\n",
       "      <th>CO(GT)</th>\n",
       "      <th>PT08.S1(CO)</th>\n",
       "      <th>NMHC(GT)</th>\n",
       "      <th>C6H6(GT)</th>\n",
       "      <th>PT08.S2(NMHC)</th>\n",
       "      <th>NOx(GT)</th>\n",
       "      <th>PT08.S3(NOx)</th>\n",
       "      <th>NO2(GT)</th>\n",
       "      <th>PT08.S4(NO2)</th>\n",
       "      <th>PT08.S5(O3)</th>\n",
       "      <th>T</th>\n",
       "      <th>RH</th>\n",
       "      <th>AH</th>\n",
       "    </tr>\n",
       "  </thead>\n",
       "  <tbody>\n",
       "    <tr>\n",
       "      <th>9352</th>\n",
       "      <td>04/04/2005</td>\n",
       "      <td>10.00.00</td>\n",
       "      <td>3.1</td>\n",
       "      <td>1314.0</td>\n",
       "      <td>-200.0</td>\n",
       "      <td>13.5</td>\n",
       "      <td>1101.0</td>\n",
       "      <td>472.0</td>\n",
       "      <td>539.0</td>\n",
       "      <td>190.0</td>\n",
       "      <td>1374.0</td>\n",
       "      <td>1729.0</td>\n",
       "      <td>21.9</td>\n",
       "      <td>29.3</td>\n",
       "      <td>0.7568</td>\n",
       "    </tr>\n",
       "    <tr>\n",
       "      <th>9353</th>\n",
       "      <td>04/04/2005</td>\n",
       "      <td>11.00.00</td>\n",
       "      <td>2.4</td>\n",
       "      <td>1163.0</td>\n",
       "      <td>-200.0</td>\n",
       "      <td>11.4</td>\n",
       "      <td>1027.0</td>\n",
       "      <td>353.0</td>\n",
       "      <td>604.0</td>\n",
       "      <td>179.0</td>\n",
       "      <td>1264.0</td>\n",
       "      <td>1269.0</td>\n",
       "      <td>24.3</td>\n",
       "      <td>23.7</td>\n",
       "      <td>0.7119</td>\n",
       "    </tr>\n",
       "    <tr>\n",
       "      <th>9354</th>\n",
       "      <td>04/04/2005</td>\n",
       "      <td>12.00.00</td>\n",
       "      <td>2.4</td>\n",
       "      <td>1142.0</td>\n",
       "      <td>-200.0</td>\n",
       "      <td>12.4</td>\n",
       "      <td>1063.0</td>\n",
       "      <td>293.0</td>\n",
       "      <td>603.0</td>\n",
       "      <td>175.0</td>\n",
       "      <td>1241.0</td>\n",
       "      <td>1092.0</td>\n",
       "      <td>26.9</td>\n",
       "      <td>18.3</td>\n",
       "      <td>0.6406</td>\n",
       "    </tr>\n",
       "    <tr>\n",
       "      <th>9355</th>\n",
       "      <td>04/04/2005</td>\n",
       "      <td>13.00.00</td>\n",
       "      <td>2.1</td>\n",
       "      <td>1003.0</td>\n",
       "      <td>-200.0</td>\n",
       "      <td>9.5</td>\n",
       "      <td>961.0</td>\n",
       "      <td>235.0</td>\n",
       "      <td>702.0</td>\n",
       "      <td>156.0</td>\n",
       "      <td>1041.0</td>\n",
       "      <td>770.0</td>\n",
       "      <td>28.3</td>\n",
       "      <td>13.5</td>\n",
       "      <td>0.5139</td>\n",
       "    </tr>\n",
       "    <tr>\n",
       "      <th>9356</th>\n",
       "      <td>04/04/2005</td>\n",
       "      <td>14.00.00</td>\n",
       "      <td>2.2</td>\n",
       "      <td>1071.0</td>\n",
       "      <td>-200.0</td>\n",
       "      <td>11.9</td>\n",
       "      <td>1047.0</td>\n",
       "      <td>265.0</td>\n",
       "      <td>654.0</td>\n",
       "      <td>168.0</td>\n",
       "      <td>1129.0</td>\n",
       "      <td>816.0</td>\n",
       "      <td>28.5</td>\n",
       "      <td>13.1</td>\n",
       "      <td>0.5028</td>\n",
       "    </tr>\n",
       "  </tbody>\n",
       "</table>\n",
       "</div>"
      ],
      "text/plain": [
       "            Date      Time  CO(GT)  PT08.S1(CO)  NMHC(GT)  C6H6(GT)  \\\n",
       "9352  04/04/2005  10.00.00     3.1       1314.0    -200.0      13.5   \n",
       "9353  04/04/2005  11.00.00     2.4       1163.0    -200.0      11.4   \n",
       "9354  04/04/2005  12.00.00     2.4       1142.0    -200.0      12.4   \n",
       "9355  04/04/2005  13.00.00     2.1       1003.0    -200.0       9.5   \n",
       "9356  04/04/2005  14.00.00     2.2       1071.0    -200.0      11.9   \n",
       "\n",
       "      PT08.S2(NMHC)  NOx(GT)  PT08.S3(NOx)  NO2(GT)  PT08.S4(NO2)  \\\n",
       "9352         1101.0    472.0         539.0    190.0        1374.0   \n",
       "9353         1027.0    353.0         604.0    179.0        1264.0   \n",
       "9354         1063.0    293.0         603.0    175.0        1241.0   \n",
       "9355          961.0    235.0         702.0    156.0        1041.0   \n",
       "9356         1047.0    265.0         654.0    168.0        1129.0   \n",
       "\n",
       "      PT08.S5(O3)     T    RH      AH  \n",
       "9352       1729.0  21.9  29.3  0.7568  \n",
       "9353       1269.0  24.3  23.7  0.7119  \n",
       "9354       1092.0  26.9  18.3  0.6406  \n",
       "9355        770.0  28.3  13.5  0.5139  \n",
       "9356        816.0  28.5  13.1  0.5028  "
      ]
     },
     "execution_count": 6,
     "metadata": {},
     "output_type": "execute_result"
    }
   ],
   "source": [
    "df.dropna(inplace=True)\n",
    "df.tail()"
   ]
  },
  {
   "cell_type": "code",
   "execution_count": 7,
   "id": "1bacd85b",
   "metadata": {
    "execution": {
     "iopub.execute_input": "2024-03-11T08:57:08.478186Z",
     "iopub.status.busy": "2024-03-11T08:57:08.477351Z",
     "iopub.status.idle": "2024-03-11T08:57:08.703945Z",
     "shell.execute_reply": "2024-03-11T08:57:08.702961Z"
    },
    "executionInfo": {
     "elapsed": 509,
     "status": "ok",
     "timestamp": 1710141610027,
     "user": {
      "displayName": "Shahid Zikria",
      "userId": "08047117160906109752"
     },
     "user_tz": -300
    },
    "id": "ggpsdDaDxj_S",
    "outputId": "699e00f3-a4f1-4111-f10c-b81c47b862f6",
    "papermill": {
     "duration": 0.238467,
     "end_time": "2024-03-11T08:57:08.705731",
     "exception": false,
     "start_time": "2024-03-11T08:57:08.467264",
     "status": "completed"
    },
    "tags": []
   },
   "outputs": [
    {
     "data": {
      "image/png": "[encoded data removed]",
      "text/plain": [
       "<Figure size 640x480 with 1 Axes>"
      ]
     },
     "metadata": {},
     "output_type": "display_data"
    }
   ],
   "source": [
    "# @title CO\n",
    "\n",
    "from matplotlib import pyplot as plt\n",
    "df['CO(GT)'].plot(kind='hist', bins=20, title='CO(GT)')\n",
    "plt.gca().spines[['top', 'right',]].set_visible(False)"
   ]
  },
  {
   "cell_type": "code",
   "execution_count": 8,
   "id": "a42bbc1d",
   "metadata": {
    "execution": {
     "iopub.execute_input": "2024-03-11T08:57:08.726838Z",
     "iopub.status.busy": "2024-03-11T08:57:08.726497Z",
     "iopub.status.idle": "2024-03-11T08:57:08.764877Z",
     "shell.execute_reply": "2024-03-11T08:57:08.764029Z"
    },
    "executionInfo": {
     "elapsed": 6,
     "status": "ok",
     "timestamp": 1710141610567,
     "user": {
      "displayName": "Shahid Zikria",
      "userId": "08047117160906109752"
     },
     "user_tz": -300
    },
    "id": "yRscyRP6x6Yw",
    "outputId": "edfc9add-5c50-4ee6-910f-c35c8403fa1e",
    "papermill": {
     "duration": 0.050943,
     "end_time": "2024-03-11T08:57:08.766629",
     "exception": false,
     "start_time": "2024-03-11T08:57:08.715686",
     "status": "completed"
    },
    "tags": []
   },
   "outputs": [
    {
     "data": {
      "text/html": [
       "<div>\n",
       "<style scoped>\n",
       "    .dataframe tbody tr th:only-of-type {\n",
       "        vertical-align: middle;\n",
       "    }\n",
       "\n",
       "    .dataframe tbody tr th {\n",
       "        vertical-align: top;\n",
       "    }\n",
       "\n",
       "    .dataframe thead th {\n",
       "        text-align: right;\n",
       "    }\n",
       "</style>\n",
       "<table border=\"1\" class=\"dataframe\">\n",
       "  <thead>\n",
       "    <tr style=\"text-align: right;\">\n",
       "      <th></th>\n",
       "      <th>CO(GT)</th>\n",
       "      <th>PT08.S1(CO)</th>\n",
       "      <th>NMHC(GT)</th>\n",
       "      <th>C6H6(GT)</th>\n",
       "      <th>PT08.S2(NMHC)</th>\n",
       "      <th>NOx(GT)</th>\n",
       "      <th>PT08.S3(NOx)</th>\n",
       "      <th>NO2(GT)</th>\n",
       "      <th>PT08.S4(NO2)</th>\n",
       "      <th>PT08.S5(O3)</th>\n",
       "      <th>T</th>\n",
       "      <th>RH</th>\n",
       "      <th>AH</th>\n",
       "    </tr>\n",
       "  </thead>\n",
       "  <tbody>\n",
       "    <tr>\n",
       "      <th>count</th>\n",
       "      <td>9357.000000</td>\n",
       "      <td>9357.000000</td>\n",
       "      <td>9357.000000</td>\n",
       "      <td>9357.000000</td>\n",
       "      <td>9357.000000</td>\n",
       "      <td>9357.000000</td>\n",
       "      <td>9357.000000</td>\n",
       "      <td>9357.000000</td>\n",
       "      <td>9357.000000</td>\n",
       "      <td>9357.000000</td>\n",
       "      <td>9357.000000</td>\n",
       "      <td>9357.000000</td>\n",
       "      <td>9357.000000</td>\n",
       "    </tr>\n",
       "    <tr>\n",
       "      <th>mean</th>\n",
       "      <td>-34.207524</td>\n",
       "      <td>1048.990061</td>\n",
       "      <td>-159.090093</td>\n",
       "      <td>1.865683</td>\n",
       "      <td>894.595276</td>\n",
       "      <td>168.616971</td>\n",
       "      <td>794.990168</td>\n",
       "      <td>58.148873</td>\n",
       "      <td>1391.479641</td>\n",
       "      <td>975.072032</td>\n",
       "      <td>9.778305</td>\n",
       "      <td>39.485380</td>\n",
       "      <td>-6.837604</td>\n",
       "    </tr>\n",
       "    <tr>\n",
       "      <th>std</th>\n",
       "      <td>77.657170</td>\n",
       "      <td>329.832710</td>\n",
       "      <td>139.789093</td>\n",
       "      <td>41.380206</td>\n",
       "      <td>342.333252</td>\n",
       "      <td>257.433866</td>\n",
       "      <td>321.993552</td>\n",
       "      <td>126.940455</td>\n",
       "      <td>467.210125</td>\n",
       "      <td>456.938184</td>\n",
       "      <td>43.203623</td>\n",
       "      <td>51.216145</td>\n",
       "      <td>38.976670</td>\n",
       "    </tr>\n",
       "    <tr>\n",
       "      <th>min</th>\n",
       "      <td>-200.000000</td>\n",
       "      <td>-200.000000</td>\n",
       "      <td>-200.000000</td>\n",
       "      <td>-200.000000</td>\n",
       "      <td>-200.000000</td>\n",
       "      <td>-200.000000</td>\n",
       "      <td>-200.000000</td>\n",
       "      <td>-200.000000</td>\n",
       "      <td>-200.000000</td>\n",
       "      <td>-200.000000</td>\n",
       "      <td>-200.000000</td>\n",
       "      <td>-200.000000</td>\n",
       "      <td>-200.000000</td>\n",
       "    </tr>\n",
       "    <tr>\n",
       "      <th>25%</th>\n",
       "      <td>0.600000</td>\n",
       "      <td>921.000000</td>\n",
       "      <td>-200.000000</td>\n",
       "      <td>4.000000</td>\n",
       "      <td>711.000000</td>\n",
       "      <td>50.000000</td>\n",
       "      <td>637.000000</td>\n",
       "      <td>53.000000</td>\n",
       "      <td>1185.000000</td>\n",
       "      <td>700.000000</td>\n",
       "      <td>10.900000</td>\n",
       "      <td>34.100000</td>\n",
       "      <td>0.692300</td>\n",
       "    </tr>\n",
       "    <tr>\n",
       "      <th>50%</th>\n",
       "      <td>1.500000</td>\n",
       "      <td>1053.000000</td>\n",
       "      <td>-200.000000</td>\n",
       "      <td>7.900000</td>\n",
       "      <td>895.000000</td>\n",
       "      <td>141.000000</td>\n",
       "      <td>794.000000</td>\n",
       "      <td>96.000000</td>\n",
       "      <td>1446.000000</td>\n",
       "      <td>942.000000</td>\n",
       "      <td>17.200000</td>\n",
       "      <td>48.600000</td>\n",
       "      <td>0.976800</td>\n",
       "    </tr>\n",
       "    <tr>\n",
       "      <th>75%</th>\n",
       "      <td>2.600000</td>\n",
       "      <td>1221.000000</td>\n",
       "      <td>-200.000000</td>\n",
       "      <td>13.600000</td>\n",
       "      <td>1105.000000</td>\n",
       "      <td>284.000000</td>\n",
       "      <td>960.000000</td>\n",
       "      <td>133.000000</td>\n",
       "      <td>1662.000000</td>\n",
       "      <td>1255.000000</td>\n",
       "      <td>24.100000</td>\n",
       "      <td>61.900000</td>\n",
       "      <td>1.296200</td>\n",
       "    </tr>\n",
       "    <tr>\n",
       "      <th>max</th>\n",
       "      <td>11.900000</td>\n",
       "      <td>2040.000000</td>\n",
       "      <td>1189.000000</td>\n",
       "      <td>63.700000</td>\n",
       "      <td>2214.000000</td>\n",
       "      <td>1479.000000</td>\n",
       "      <td>2683.000000</td>\n",
       "      <td>340.000000</td>\n",
       "      <td>2775.000000</td>\n",
       "      <td>2523.000000</td>\n",
       "      <td>44.600000</td>\n",
       "      <td>88.700000</td>\n",
       "      <td>2.231000</td>\n",
       "    </tr>\n",
       "  </tbody>\n",
       "</table>\n",
       "</div>"
      ],
      "text/plain": [
       "            CO(GT)  PT08.S1(CO)     NMHC(GT)     C6H6(GT)  PT08.S2(NMHC)  \\\n",
       "count  9357.000000  9357.000000  9357.000000  9357.000000    9357.000000   \n",
       "mean    -34.207524  1048.990061  -159.090093     1.865683     894.595276   \n",
       "std      77.657170   329.832710   139.789093    41.380206     342.333252   \n",
       "min    -200.000000  -200.000000  -200.000000  -200.000000    -200.000000   \n",
       "25%       0.600000   921.000000  -200.000000     4.000000     711.000000   \n",
       "50%       1.500000  1053.000000  -200.000000     7.900000     895.000000   \n",
       "75%       2.600000  1221.000000  -200.000000    13.600000    1105.000000   \n",
       "max      11.900000  2040.000000  1189.000000    63.700000    2214.000000   \n",
       "\n",
       "           NOx(GT)  PT08.S3(NOx)      NO2(GT)  PT08.S4(NO2)  PT08.S5(O3)  \\\n",
       "count  9357.000000   9357.000000  9357.000000   9357.000000  9357.000000   \n",
       "mean    168.616971    794.990168    58.148873   1391.479641   975.072032   \n",
       "std     257.433866    321.993552   126.940455    467.210125   456.938184   \n",
       "min    -200.000000   -200.000000  -200.000000   -200.000000  -200.000000   \n",
       "25%      50.000000    637.000000    53.000000   1185.000000   700.000000   \n",
       "50%     141.000000    794.000000    96.000000   1446.000000   942.000000   \n",
       "75%     284.000000    960.000000   133.000000   1662.000000  1255.000000   \n",
       "max    1479.000000   2683.000000   340.000000   2775.000000  2523.000000   \n",
       "\n",
       "                 T           RH           AH  \n",
       "count  9357.000000  9357.000000  9357.000000  \n",
       "mean      9.778305    39.485380    -6.837604  \n",
       "std      43.203623    51.216145    38.976670  \n",
       "min    -200.000000  -200.000000  -200.000000  \n",
       "25%      10.900000    34.100000     0.692300  \n",
       "50%      17.200000    48.600000     0.976800  \n",
       "75%      24.100000    61.900000     1.296200  \n",
       "max      44.600000    88.700000     2.231000  "
      ]
     },
     "execution_count": 8,
     "metadata": {},
     "output_type": "execute_result"
    }
   ],
   "source": [
    "# prompt: Using dataframe df: bar chart\n",
    "df.describe()"
   ]
  },
  {
   "cell_type": "markdown",
   "id": "fbc01f0c",
   "metadata": {
    "id": "l_F2WiS_2f6H",
    "papermill": {
     "duration": 0.009527,
     "end_time": "2024-03-11T08:57:08.786056",
     "exception": false,
     "start_time": "2024-03-11T08:57:08.776529",
     "status": "completed"
    },
    "tags": []
   },
   "source": [
    "There are no null values in the dataset, however the <b>description of dataset says that the null values are labelled with -200 value in the dataset</b>"
   ]
  },
  {
   "cell_type": "code",
   "execution_count": 9,
   "id": "1066d7d1",
   "metadata": {
    "execution": {
     "iopub.execute_input": "2024-03-11T08:57:08.807209Z",
     "iopub.status.busy": "2024-03-11T08:57:08.806896Z",
     "iopub.status.idle": "2024-03-11T08:57:09.143094Z",
     "shell.execute_reply": "2024-03-11T08:57:09.142367Z"
    },
    "executionInfo": {
     "elapsed": 701,
     "status": "ok",
     "timestamp": 1710141613061,
     "user": {
      "displayName": "Shahid Zikria",
      "userId": "08047117160906109752"
     },
     "user_tz": -300
    },
    "id": "Sj6nszKqwJEm",
    "outputId": "e81278cc-fba1-4b6e-ecd0-9619e2da6763",
    "papermill": {
     "duration": 0.348807,
     "end_time": "2024-03-11T08:57:09.144660",
     "exception": false,
     "start_time": "2024-03-11T08:57:08.795853",
     "status": "completed"
    },
    "tags": []
   },
   "outputs": [
    {
     "data": {
      "image/png": "[encoded data removed]",
      "text/plain": [
       "<Figure size 640x480 with 2 Axes>"
      ]
     },
     "metadata": {},
     "output_type": "display_data"
    }
   ],
   "source": [
    "#first labelling -200 value as null value\n",
    "df.replace(to_replace=-200,value=np.nan,inplace=True)\n",
    "sns.heatmap(df.isna(),yticklabels=False,cmap='crest')\n",
    "plt.show()"
   ]
  },
  {
   "cell_type": "code",
   "execution_count": 10,
   "id": "412243cc",
   "metadata": {
    "execution": {
     "iopub.execute_input": "2024-03-11T08:57:09.166477Z",
     "iopub.status.busy": "2024-03-11T08:57:09.165918Z",
     "iopub.status.idle": "2024-03-11T08:57:09.174429Z",
     "shell.execute_reply": "2024-03-11T08:57:09.173428Z"
    },
    "executionInfo": {
     "elapsed": 5,
     "status": "ok",
     "timestamp": 1710141613612,
     "user": {
      "displayName": "Shahid Zikria",
      "userId": "08047117160906109752"
     },
     "user_tz": -300
    },
    "id": "zygitVy6wJEm",
    "outputId": "1379ea8e-0181-4ffc-d042-a3bdb6bd2653",
    "papermill": {
     "duration": 0.021576,
     "end_time": "2024-03-11T08:57:09.176682",
     "exception": false,
     "start_time": "2024-03-11T08:57:09.155106",
     "status": "completed"
    },
    "tags": []
   },
   "outputs": [
    {
     "data": {
      "text/plain": [
       "Date                0\n",
       "Time                0\n",
       "CO(GT)           1683\n",
       "PT08.S1(CO)       366\n",
       "C6H6(GT)          366\n",
       "PT08.S2(NMHC)     366\n",
       "NOx(GT)          1639\n",
       "PT08.S3(NOx)      366\n",
       "NO2(GT)          1642\n",
       "PT08.S4(NO2)      366\n",
       "PT08.S5(O3)       366\n",
       "T                 366\n",
       "RH                366\n",
       "AH                366\n",
       "dtype: int64"
      ]
     },
     "execution_count": 10,
     "metadata": {},
     "output_type": "execute_result"
    }
   ],
   "source": [
    "# NMHC column has a lot of null values. We can drop the column!\n",
    "\n",
    "df.drop(columns=['NMHC(GT)'],inplace=True)\n",
    "df.isna().sum()"
   ]
  },
  {
   "cell_type": "code",
   "execution_count": 11,
   "id": "275e5c88",
   "metadata": {
    "execution": {
     "iopub.execute_input": "2024-03-11T08:57:09.199729Z",
     "iopub.status.busy": "2024-03-11T08:57:09.199353Z",
     "iopub.status.idle": "2024-03-11T08:57:09.208824Z",
     "shell.execute_reply": "2024-03-11T08:57:09.207926Z"
    },
    "executionInfo": {
     "elapsed": 3,
     "status": "ok",
     "timestamp": 1710141615201,
     "user": {
      "displayName": "Shahid Zikria",
      "userId": "08047117160906109752"
     },
     "user_tz": -300
    },
    "id": "48xU0PQjwJEn",
    "outputId": "3a1c8428-2540-455a-c1d3-bac29ecfa413",
    "papermill": {
     "duration": 0.023067,
     "end_time": "2024-03-11T08:57:09.210520",
     "exception": false,
     "start_time": "2024-03-11T08:57:09.187453",
     "status": "completed"
    },
    "tags": []
   },
   "outputs": [
    {
     "data": {
      "text/plain": [
       "CO(GT)           float64\n",
       "PT08.S1(CO)      float64\n",
       "C6H6(GT)         float64\n",
       "PT08.S2(NMHC)    float64\n",
       "NOx(GT)          float64\n",
       "PT08.S3(NOx)     float64\n",
       "NO2(GT)          float64\n",
       "PT08.S4(NO2)     float64\n",
       "PT08.S5(O3)      float64\n",
       "T                float64\n",
       "RH               float64\n",
       "AH               float64\n",
       "dtype: object"
      ]
     },
     "execution_count": 11,
     "metadata": {},
     "output_type": "execute_result"
    }
   ],
   "source": [
    "# getting the datatypes of all the columns having null values\n",
    "# first storing all the column names in a list having null values\n",
    "col = ['CO(GT)', 'PT08.S1(CO)', 'C6H6(GT)','PT08.S2(NMHC)', 'NOx(GT)', 'PT08.S3(NOx)', 'NO2(GT)', 'PT08.S4(NO2)','PT08.S5(O3)', 'T', 'RH', 'AH']\n",
    "df = df[col]\n",
    "df[col].dtypes"
   ]
  },
  {
   "cell_type": "code",
   "execution_count": 12,
   "id": "e97e73c9",
   "metadata": {
    "execution": {
     "iopub.execute_input": "2024-03-11T08:57:09.233768Z",
     "iopub.status.busy": "2024-03-11T08:57:09.232714Z",
     "iopub.status.idle": "2024-03-11T08:57:09.252446Z",
     "shell.execute_reply": "2024-03-11T08:57:09.251773Z"
    },
    "executionInfo": {
     "elapsed": 6,
     "status": "ok",
     "timestamp": 1710141615924,
     "user": {
      "displayName": "Shahid Zikria",
      "userId": "08047117160906109752"
     },
     "user_tz": -300
    },
    "id": "vGVHBzs8wJEn",
    "outputId": "ecfb67aa-b506-490c-9e46-7bd7094a1d42",
    "papermill": {
     "duration": 0.033218,
     "end_time": "2024-03-11T08:57:09.254410",
     "exception": false,
     "start_time": "2024-03-11T08:57:09.221192",
     "status": "completed"
    },
    "tags": []
   },
   "outputs": [
    {
     "data": {
      "text/html": [
       "<div>\n",
       "<style scoped>\n",
       "    .dataframe tbody tr th:only-of-type {\n",
       "        vertical-align: middle;\n",
       "    }\n",
       "\n",
       "    .dataframe tbody tr th {\n",
       "        vertical-align: top;\n",
       "    }\n",
       "\n",
       "    .dataframe thead th {\n",
       "        text-align: right;\n",
       "    }\n",
       "</style>\n",
       "<table border=\"1\" class=\"dataframe\">\n",
       "  <thead>\n",
       "    <tr style=\"text-align: right;\">\n",
       "      <th></th>\n",
       "      <th>CO(GT)</th>\n",
       "      <th>PT08.S1(CO)</th>\n",
       "      <th>C6H6(GT)</th>\n",
       "      <th>PT08.S2(NMHC)</th>\n",
       "      <th>NOx(GT)</th>\n",
       "      <th>PT08.S3(NOx)</th>\n",
       "      <th>NO2(GT)</th>\n",
       "      <th>PT08.S4(NO2)</th>\n",
       "      <th>PT08.S5(O3)</th>\n",
       "      <th>T</th>\n",
       "      <th>RH</th>\n",
       "      <th>AH</th>\n",
       "    </tr>\n",
       "  </thead>\n",
       "  <tbody>\n",
       "    <tr>\n",
       "      <th>0</th>\n",
       "      <td>2.6</td>\n",
       "      <td>1360.0</td>\n",
       "      <td>11.9</td>\n",
       "      <td>1046.0</td>\n",
       "      <td>166.0</td>\n",
       "      <td>1056.0</td>\n",
       "      <td>113.0</td>\n",
       "      <td>1692.0</td>\n",
       "      <td>1268.0</td>\n",
       "      <td>13.6</td>\n",
       "      <td>48.9</td>\n",
       "      <td>0.7578</td>\n",
       "    </tr>\n",
       "    <tr>\n",
       "      <th>1</th>\n",
       "      <td>2.0</td>\n",
       "      <td>1292.0</td>\n",
       "      <td>9.4</td>\n",
       "      <td>955.0</td>\n",
       "      <td>103.0</td>\n",
       "      <td>1174.0</td>\n",
       "      <td>92.0</td>\n",
       "      <td>1559.0</td>\n",
       "      <td>972.0</td>\n",
       "      <td>13.3</td>\n",
       "      <td>47.7</td>\n",
       "      <td>0.7255</td>\n",
       "    </tr>\n",
       "    <tr>\n",
       "      <th>2</th>\n",
       "      <td>2.2</td>\n",
       "      <td>1402.0</td>\n",
       "      <td>9.0</td>\n",
       "      <td>939.0</td>\n",
       "      <td>131.0</td>\n",
       "      <td>1140.0</td>\n",
       "      <td>114.0</td>\n",
       "      <td>1555.0</td>\n",
       "      <td>1074.0</td>\n",
       "      <td>11.9</td>\n",
       "      <td>54.0</td>\n",
       "      <td>0.7502</td>\n",
       "    </tr>\n",
       "    <tr>\n",
       "      <th>3</th>\n",
       "      <td>2.2</td>\n",
       "      <td>1376.0</td>\n",
       "      <td>9.2</td>\n",
       "      <td>948.0</td>\n",
       "      <td>172.0</td>\n",
       "      <td>1092.0</td>\n",
       "      <td>122.0</td>\n",
       "      <td>1584.0</td>\n",
       "      <td>1203.0</td>\n",
       "      <td>11.0</td>\n",
       "      <td>60.0</td>\n",
       "      <td>0.7867</td>\n",
       "    </tr>\n",
       "    <tr>\n",
       "      <th>4</th>\n",
       "      <td>1.6</td>\n",
       "      <td>1272.0</td>\n",
       "      <td>6.5</td>\n",
       "      <td>836.0</td>\n",
       "      <td>131.0</td>\n",
       "      <td>1205.0</td>\n",
       "      <td>116.0</td>\n",
       "      <td>1490.0</td>\n",
       "      <td>1110.0</td>\n",
       "      <td>11.2</td>\n",
       "      <td>59.6</td>\n",
       "      <td>0.7888</td>\n",
       "    </tr>\n",
       "  </tbody>\n",
       "</table>\n",
       "</div>"
      ],
      "text/plain": [
       "   CO(GT)  PT08.S1(CO)  C6H6(GT)  PT08.S2(NMHC)  NOx(GT)  PT08.S3(NOx)  \\\n",
       "0     2.6       1360.0      11.9         1046.0    166.0        1056.0   \n",
       "1     2.0       1292.0       9.4          955.0    103.0        1174.0   \n",
       "2     2.2       1402.0       9.0          939.0    131.0        1140.0   \n",
       "3     2.2       1376.0       9.2          948.0    172.0        1092.0   \n",
       "4     1.6       1272.0       6.5          836.0    131.0        1205.0   \n",
       "\n",
       "   NO2(GT)  PT08.S4(NO2)  PT08.S5(O3)     T    RH      AH  \n",
       "0    113.0        1692.0       1268.0  13.6  48.9  0.7578  \n",
       "1     92.0        1559.0        972.0  13.3  47.7  0.7255  \n",
       "2    114.0        1555.0       1074.0  11.9  54.0  0.7502  \n",
       "3    122.0        1584.0       1203.0  11.0  60.0  0.7867  \n",
       "4    116.0        1490.0       1110.0  11.2  59.6  0.7888  "
      ]
     },
     "execution_count": 12,
     "metadata": {},
     "output_type": "execute_result"
    }
   ],
   "source": [
    "df[col].head()"
   ]
  },
  {
   "cell_type": "code",
   "execution_count": 13,
   "id": "fd4cf5fc",
   "metadata": {
    "execution": {
     "iopub.execute_input": "2024-03-11T08:57:09.279167Z",
     "iopub.status.busy": "2024-03-11T08:57:09.278604Z",
     "iopub.status.idle": "2024-03-11T08:57:09.290402Z",
     "shell.execute_reply": "2024-03-11T08:57:09.289772Z"
    },
    "executionInfo": {
     "elapsed": 3,
     "status": "ok",
     "timestamp": 1710141616958,
     "user": {
      "displayName": "Shahid Zikria",
      "userId": "08047117160906109752"
     },
     "user_tz": -300
    },
    "id": "t9HJwvB04rBe",
    "outputId": "57ba2356-11c4-42cd-ef15-0f0fee291331",
    "papermill": {
     "duration": 0.026092,
     "end_time": "2024-03-11T08:57:09.291974",
     "exception": false,
     "start_time": "2024-03-11T08:57:09.265882",
     "status": "completed"
    },
    "tags": []
   },
   "outputs": [
    {
     "data": {
      "text/plain": [
       "CO(GT)           0\n",
       "PT08.S1(CO)      0\n",
       "C6H6(GT)         0\n",
       "PT08.S2(NMHC)    0\n",
       "NOx(GT)          0\n",
       "PT08.S3(NOx)     0\n",
       "NO2(GT)          0\n",
       "PT08.S4(NO2)     0\n",
       "PT08.S5(O3)      0\n",
       "T                0\n",
       "RH               0\n",
       "AH               0\n",
       "dtype: int64"
      ]
     },
     "execution_count": 13,
     "metadata": {},
     "output_type": "execute_result"
    }
   ],
   "source": [
    "# Since the data is real valued, we should replace all the null values with mean of each column\n",
    "\n",
    "for i in col:\n",
    "    df[i] = df[i].fillna(df[i].mean())\n",
    "\n",
    "df.isna().sum()"
   ]
  },
  {
   "cell_type": "code",
   "execution_count": 14,
   "id": "f2a3f9f9",
   "metadata": {
    "execution": {
     "iopub.execute_input": "2024-03-11T08:57:09.314549Z",
     "iopub.status.busy": "2024-03-11T08:57:09.314068Z",
     "iopub.status.idle": "2024-03-11T08:57:09.633407Z",
     "shell.execute_reply": "2024-03-11T08:57:09.632566Z"
    },
    "executionInfo": {
     "elapsed": 1764,
     "status": "ok",
     "timestamp": 1710141619340,
     "user": {
      "displayName": "Shahid Zikria",
      "userId": "08047117160906109752"
     },
     "user_tz": -300
    },
    "id": "sGK-1YXQwJEl",
    "outputId": "20d4f514-b36c-45b1-bf87-2762a7e41dc0",
    "papermill": {
     "duration": 0.332598,
     "end_time": "2024-03-11T08:57:09.635289",
     "exception": false,
     "start_time": "2024-03-11T08:57:09.302691",
     "status": "completed"
    },
    "tags": []
   },
   "outputs": [
    {
     "data": {
      "image/png": "[encoded data removed]",
      "text/plain": [
       "<Figure size 1200x800 with 1 Axes>"
      ]
     },
     "metadata": {},
     "output_type": "display_data"
    }
   ],
   "source": [
    "# Plot box plots for summary statistics of numerical columns\n",
    "plt.figure(figsize=(12, 8))\n",
    "sns.boxplot(data=df)\n",
    "plt.title('Box Plot for Outliers checking')\n",
    "plt.xticks(rotation=45)\n",
    "plt.show()"
   ]
  },
  {
   "cell_type": "markdown",
   "id": "91aca501",
   "metadata": {
    "id": "KUylPLlR7DEs",
    "papermill": {
     "duration": 0.011179,
     "end_time": "2024-03-11T08:57:09.658068",
     "exception": false,
     "start_time": "2024-03-11T08:57:09.646889",
     "status": "completed"
    },
    "tags": []
   },
   "source": [
    "- As we can notice that there are a lot of data points which lies outside the whiskers.\n",
    "\n",
    "- Let's get a count of the outliers present in each column."
   ]
  },
  {
   "cell_type": "code",
   "execution_count": 15,
   "id": "b9657e65",
   "metadata": {
    "execution": {
     "iopub.execute_input": "2024-03-11T08:57:09.682703Z",
     "iopub.status.busy": "2024-03-11T08:57:09.682220Z",
     "iopub.status.idle": "2024-03-11T08:57:09.693477Z",
     "shell.execute_reply": "2024-03-11T08:57:09.692819Z"
    },
    "executionInfo": {
     "elapsed": 518,
     "status": "ok",
     "timestamp": 1710141622006,
     "user": {
      "displayName": "Shahid Zikria",
      "userId": "08047117160906109752"
     },
     "user_tz": -300
    },
    "id": "mcx9cFa74pw8",
    "papermill": {
     "duration": 0.02585,
     "end_time": "2024-03-11T08:57:09.695321",
     "exception": false,
     "start_time": "2024-03-11T08:57:09.669471",
     "status": "completed"
    },
    "tags": []
   },
   "outputs": [],
   "source": [
    "# getting the quartile one and quartile 3 values of each column\n",
    "Q1 = df.quantile(0.25)\n",
    "Q3 = df.quantile(0.75)\n",
    "# finally calculating the interquartile range IQR\n",
    "IQR = Q3 - Q1"
   ]
  },
  {
   "cell_type": "code",
   "execution_count": 16,
   "id": "6a741cc4",
   "metadata": {
    "execution": {
     "iopub.execute_input": "2024-03-11T08:57:09.719550Z",
     "iopub.status.busy": "2024-03-11T08:57:09.719066Z",
     "iopub.status.idle": "2024-03-11T08:57:09.728596Z",
     "shell.execute_reply": "2024-03-11T08:57:09.727807Z"
    },
    "executionInfo": {
     "elapsed": 4,
     "status": "ok",
     "timestamp": 1710141622626,
     "user": {
      "displayName": "Shahid Zikria",
      "userId": "08047117160906109752"
     },
     "user_tz": -300
    },
    "id": "Hcbg7GbI61kD",
    "outputId": "2962c330-a6fa-4a52-eded-4948909dfcd0",
    "papermill": {
     "duration": 0.024155,
     "end_time": "2024-03-11T08:57:09.730789",
     "exception": false,
     "start_time": "2024-03-11T08:57:09.706634",
     "status": "completed"
    },
    "tags": []
   },
   "outputs": [
    {
     "data": {
      "text/plain": [
       "CO(GT)           454\n",
       "PT08.S1(CO)      145\n",
       "C6H6(GT)         286\n",
       "PT08.S2(NMHC)     91\n",
       "NOx(GT)          778\n",
       "PT08.S3(NOx)     278\n",
       "NO2(GT)          380\n",
       "PT08.S4(NO2)     131\n",
       "PT08.S5(O3)      131\n",
       "T                 10\n",
       "RH                 0\n",
       "AH                 7\n",
       "dtype: int64"
      ]
     },
     "execution_count": 16,
     "metadata": {},
     "output_type": "execute_result"
    }
   ],
   "source": [
    "# if the values fall behind Q1 - (1.5 * IQR) or above Q3 + 1.5*IQR,\n",
    "#then it is been defined as outlier\n",
    "((df < (Q1 - 1.5 * IQR)) | (df > (Q3 + 1.5 * IQR))).sum()"
   ]
  },
  {
   "cell_type": "markdown",
   "id": "f3494543",
   "metadata": {
    "id": "hmRJaYBu7Yce",
    "papermill": {
     "duration": 0.01089,
     "end_time": "2024-03-11T08:57:09.753719",
     "exception": false,
     "start_time": "2024-03-11T08:57:09.742829",
     "status": "completed"
    },
    "tags": []
   },
   "source": [
    "**To handle outliers we can follow three steps:**\n",
    "\n",
    "- Trimming or removing outliers permanently.\n",
    "- Quantile based flooring and capping.\n",
    "- Replacing them with mean and median.\n",
    "\n",
    "**Our approach**:\n",
    "\n",
    "- Trimming and removing outliers won't help much and may also results in data loss.\n",
    "- Quantile based flooring and capping refer to replacing outliers with 10% and 90% quantile value.\n",
    "- As mean value is highly influenced by the outliers, it been advised to use median to replace the outliers.\n"
   ]
  },
  {
   "cell_type": "code",
   "execution_count": 17,
   "id": "d111e0f3",
   "metadata": {
    "execution": {
     "iopub.execute_input": "2024-03-11T08:57:09.777261Z",
     "iopub.status.busy": "2024-03-11T08:57:09.776929Z",
     "iopub.status.idle": "2024-03-11T08:57:09.797031Z",
     "shell.execute_reply": "2024-03-11T08:57:09.796105Z"
    },
    "executionInfo": {
     "elapsed": 6,
     "status": "ok",
     "timestamp": 1710141623625,
     "user": {
      "displayName": "Shahid Zikria",
      "userId": "08047117160906109752"
     },
     "user_tz": -300
    },
    "id": "1Pp8vYsx617T",
    "outputId": "959fcce1-d091-49e1-cf2b-86b39c48fbfa",
    "papermill": {
     "duration": 0.03391,
     "end_time": "2024-03-11T08:57:09.798681",
     "exception": false,
     "start_time": "2024-03-11T08:57:09.764771",
     "status": "completed"
    },
    "tags": []
   },
   "outputs": [
    {
     "data": {
      "text/html": [
       "<div>\n",
       "<style scoped>\n",
       "    .dataframe tbody tr th:only-of-type {\n",
       "        vertical-align: middle;\n",
       "    }\n",
       "\n",
       "    .dataframe tbody tr th {\n",
       "        vertical-align: top;\n",
       "    }\n",
       "\n",
       "    .dataframe thead th {\n",
       "        text-align: right;\n",
       "    }\n",
       "</style>\n",
       "<table border=\"1\" class=\"dataframe\">\n",
       "  <thead>\n",
       "    <tr style=\"text-align: right;\">\n",
       "      <th></th>\n",
       "      <th>CO(GT)</th>\n",
       "      <th>PT08.S1(CO)</th>\n",
       "      <th>C6H6(GT)</th>\n",
       "      <th>PT08.S2(NMHC)</th>\n",
       "      <th>NOx(GT)</th>\n",
       "      <th>PT08.S3(NOx)</th>\n",
       "      <th>NO2(GT)</th>\n",
       "      <th>PT08.S4(NO2)</th>\n",
       "      <th>PT08.S5(O3)</th>\n",
       "      <th>T</th>\n",
       "      <th>RH</th>\n",
       "      <th>AH</th>\n",
       "    </tr>\n",
       "  </thead>\n",
       "  <tbody>\n",
       "    <tr>\n",
       "      <th>0</th>\n",
       "      <td>False</td>\n",
       "      <td>False</td>\n",
       "      <td>False</td>\n",
       "      <td>False</td>\n",
       "      <td>False</td>\n",
       "      <td>False</td>\n",
       "      <td>False</td>\n",
       "      <td>False</td>\n",
       "      <td>False</td>\n",
       "      <td>False</td>\n",
       "      <td>False</td>\n",
       "      <td>False</td>\n",
       "    </tr>\n",
       "    <tr>\n",
       "      <th>1</th>\n",
       "      <td>False</td>\n",
       "      <td>False</td>\n",
       "      <td>False</td>\n",
       "      <td>False</td>\n",
       "      <td>False</td>\n",
       "      <td>False</td>\n",
       "      <td>False</td>\n",
       "      <td>False</td>\n",
       "      <td>False</td>\n",
       "      <td>False</td>\n",
       "      <td>False</td>\n",
       "      <td>False</td>\n",
       "    </tr>\n",
       "    <tr>\n",
       "      <th>2</th>\n",
       "      <td>False</td>\n",
       "      <td>False</td>\n",
       "      <td>False</td>\n",
       "      <td>False</td>\n",
       "      <td>False</td>\n",
       "      <td>False</td>\n",
       "      <td>False</td>\n",
       "      <td>False</td>\n",
       "      <td>False</td>\n",
       "      <td>False</td>\n",
       "      <td>False</td>\n",
       "      <td>False</td>\n",
       "    </tr>\n",
       "    <tr>\n",
       "      <th>3</th>\n",
       "      <td>False</td>\n",
       "      <td>False</td>\n",
       "      <td>False</td>\n",
       "      <td>False</td>\n",
       "      <td>False</td>\n",
       "      <td>False</td>\n",
       "      <td>False</td>\n",
       "      <td>False</td>\n",
       "      <td>False</td>\n",
       "      <td>False</td>\n",
       "      <td>False</td>\n",
       "      <td>False</td>\n",
       "    </tr>\n",
       "    <tr>\n",
       "      <th>4</th>\n",
       "      <td>False</td>\n",
       "      <td>False</td>\n",
       "      <td>False</td>\n",
       "      <td>False</td>\n",
       "      <td>False</td>\n",
       "      <td>False</td>\n",
       "      <td>False</td>\n",
       "      <td>False</td>\n",
       "      <td>False</td>\n",
       "      <td>False</td>\n",
       "      <td>False</td>\n",
       "      <td>False</td>\n",
       "    </tr>\n",
       "    <tr>\n",
       "      <th>...</th>\n",
       "      <td>...</td>\n",
       "      <td>...</td>\n",
       "      <td>...</td>\n",
       "      <td>...</td>\n",
       "      <td>...</td>\n",
       "      <td>...</td>\n",
       "      <td>...</td>\n",
       "      <td>...</td>\n",
       "      <td>...</td>\n",
       "      <td>...</td>\n",
       "      <td>...</td>\n",
       "      <td>...</td>\n",
       "    </tr>\n",
       "    <tr>\n",
       "      <th>9352</th>\n",
       "      <td>False</td>\n",
       "      <td>False</td>\n",
       "      <td>False</td>\n",
       "      <td>False</td>\n",
       "      <td>False</td>\n",
       "      <td>False</td>\n",
       "      <td>False</td>\n",
       "      <td>False</td>\n",
       "      <td>False</td>\n",
       "      <td>False</td>\n",
       "      <td>False</td>\n",
       "      <td>False</td>\n",
       "    </tr>\n",
       "    <tr>\n",
       "      <th>9353</th>\n",
       "      <td>False</td>\n",
       "      <td>False</td>\n",
       "      <td>False</td>\n",
       "      <td>False</td>\n",
       "      <td>False</td>\n",
       "      <td>False</td>\n",
       "      <td>False</td>\n",
       "      <td>False</td>\n",
       "      <td>False</td>\n",
       "      <td>False</td>\n",
       "      <td>False</td>\n",
       "      <td>False</td>\n",
       "    </tr>\n",
       "    <tr>\n",
       "      <th>9354</th>\n",
       "      <td>False</td>\n",
       "      <td>False</td>\n",
       "      <td>False</td>\n",
       "      <td>False</td>\n",
       "      <td>False</td>\n",
       "      <td>False</td>\n",
       "      <td>False</td>\n",
       "      <td>False</td>\n",
       "      <td>False</td>\n",
       "      <td>False</td>\n",
       "      <td>False</td>\n",
       "      <td>False</td>\n",
       "    </tr>\n",
       "    <tr>\n",
       "      <th>9355</th>\n",
       "      <td>False</td>\n",
       "      <td>False</td>\n",
       "      <td>False</td>\n",
       "      <td>False</td>\n",
       "      <td>False</td>\n",
       "      <td>False</td>\n",
       "      <td>False</td>\n",
       "      <td>False</td>\n",
       "      <td>False</td>\n",
       "      <td>False</td>\n",
       "      <td>False</td>\n",
       "      <td>False</td>\n",
       "    </tr>\n",
       "    <tr>\n",
       "      <th>9356</th>\n",
       "      <td>False</td>\n",
       "      <td>False</td>\n",
       "      <td>False</td>\n",
       "      <td>False</td>\n",
       "      <td>False</td>\n",
       "      <td>False</td>\n",
       "      <td>False</td>\n",
       "      <td>False</td>\n",
       "      <td>False</td>\n",
       "      <td>False</td>\n",
       "      <td>False</td>\n",
       "      <td>False</td>\n",
       "    </tr>\n",
       "  </tbody>\n",
       "</table>\n",
       "<p>9357 rows × 12 columns</p>\n",
       "</div>"
      ],
      "text/plain": [
       "      CO(GT)  PT08.S1(CO)  C6H6(GT)  PT08.S2(NMHC)  NOx(GT)  PT08.S3(NOx)  \\\n",
       "0      False        False     False          False    False         False   \n",
       "1      False        False     False          False    False         False   \n",
       "2      False        False     False          False    False         False   \n",
       "3      False        False     False          False    False         False   \n",
       "4      False        False     False          False    False         False   \n",
       "...      ...          ...       ...            ...      ...           ...   \n",
       "9352   False        False     False          False    False         False   \n",
       "9353   False        False     False          False    False         False   \n",
       "9354   False        False     False          False    False         False   \n",
       "9355   False        False     False          False    False         False   \n",
       "9356   False        False     False          False    False         False   \n",
       "\n",
       "      NO2(GT)  PT08.S4(NO2)  PT08.S5(O3)      T     RH     AH  \n",
       "0       False         False        False  False  False  False  \n",
       "1       False         False        False  False  False  False  \n",
       "2       False         False        False  False  False  False  \n",
       "3       False         False        False  False  False  False  \n",
       "4       False         False        False  False  False  False  \n",
       "...       ...           ...          ...    ...    ...    ...  \n",
       "9352    False         False        False  False  False  False  \n",
       "9353    False         False        False  False  False  False  \n",
       "9354    False         False        False  False  False  False  \n",
       "9355    False         False        False  False  False  False  \n",
       "9356    False         False        False  False  False  False  \n",
       "\n",
       "[9357 rows x 12 columns]"
      ]
     },
     "execution_count": 17,
     "metadata": {},
     "output_type": "execute_result"
    }
   ],
   "source": [
    "mask = (df < (Q1 - 1.5 * IQR)) | (df > (Q3 + 1.5 * IQR))\n",
    "mask"
   ]
  },
  {
   "cell_type": "code",
   "execution_count": 18,
   "id": "29f5986f",
   "metadata": {
    "execution": {
     "iopub.execute_input": "2024-03-11T08:57:09.824040Z",
     "iopub.status.busy": "2024-03-11T08:57:09.823329Z",
     "iopub.status.idle": "2024-03-11T08:57:09.836461Z",
     "shell.execute_reply": "2024-03-11T08:57:09.835250Z"
    },
    "executionInfo": {
     "elapsed": 2,
     "status": "ok",
     "timestamp": 1710141623952,
     "user": {
      "displayName": "Shahid Zikria",
      "userId": "08047117160906109752"
     },
     "user_tz": -300
    },
    "id": "2rerXCg862PJ",
    "papermill": {
     "duration": 0.027873,
     "end_time": "2024-03-11T08:57:09.838216",
     "exception": false,
     "start_time": "2024-03-11T08:57:09.810343",
     "status": "completed"
    },
    "tags": []
   },
   "outputs": [],
   "source": [
    "# now replacing all the outliers using the median of that particular column\n",
    "for i in mask.columns:\n",
    "    df[i].astype('float')\n",
    "    temp = df[i].median()\n",
    "    df.loc[mask[i], i] = temp"
   ]
  },
  {
   "cell_type": "code",
   "execution_count": 19,
   "id": "e1b72f85",
   "metadata": {
    "execution": {
     "iopub.execute_input": "2024-03-11T08:57:09.863640Z",
     "iopub.status.busy": "2024-03-11T08:57:09.863323Z",
     "iopub.status.idle": "2024-03-11T08:57:09.875415Z",
     "shell.execute_reply": "2024-03-11T08:57:09.874629Z"
    },
    "executionInfo": {
     "elapsed": 5,
     "status": "ok",
     "timestamp": 1710141625257,
     "user": {
      "displayName": "Shahid Zikria",
      "userId": "08047117160906109752"
     },
     "user_tz": -300
    },
    "id": "e_Ly2s3562hT",
    "outputId": "3ed19357-7bb4-4eaf-9fa8-346487d1ed7d",
    "papermill": {
     "duration": 0.027126,
     "end_time": "2024-03-11T08:57:09.876852",
     "exception": false,
     "start_time": "2024-03-11T08:57:09.849726",
     "status": "completed"
    },
    "tags": []
   },
   "outputs": [
    {
     "data": {
      "text/plain": [
       "CO(GT)           0\n",
       "PT08.S1(CO)      0\n",
       "C6H6(GT)         0\n",
       "PT08.S2(NMHC)    0\n",
       "NOx(GT)          0\n",
       "PT08.S3(NOx)     0\n",
       "NO2(GT)          0\n",
       "PT08.S4(NO2)     0\n",
       "PT08.S5(O3)      0\n",
       "T                0\n",
       "RH               0\n",
       "AH               0\n",
       "dtype: int64"
      ]
     },
     "execution_count": 19,
     "metadata": {},
     "output_type": "execute_result"
    }
   ],
   "source": [
    "# outliers are now being handled and are replaced with that column's median value\n",
    "((df[col] < (Q1 - 1.5 * IQR)) | (df[col] > (Q3 + 1.5 * IQR))).sum()"
   ]
  },
  {
   "cell_type": "code",
   "execution_count": 20,
   "id": "8a06a670",
   "metadata": {
    "execution": {
     "iopub.execute_input": "2024-03-11T08:57:09.939038Z",
     "iopub.status.busy": "2024-03-11T08:57:09.938192Z",
     "iopub.status.idle": "2024-03-11T08:57:10.220612Z",
     "shell.execute_reply": "2024-03-11T08:57:10.219786Z"
    },
    "executionInfo": {
     "elapsed": 1396,
     "status": "ok",
     "timestamp": 1710141627203,
     "user": {
      "displayName": "Shahid Zikria",
      "userId": "08047117160906109752"
     },
     "user_tz": -300
    },
    "id": "iyclkYnO62yf",
    "outputId": "9558ea31-ca1f-490b-d7e9-7d7632510095",
    "papermill": {
     "duration": 0.333892,
     "end_time": "2024-03-11T08:57:10.222679",
     "exception": false,
     "start_time": "2024-03-11T08:57:09.888787",
     "status": "completed"
    },
    "tags": []
   },
   "outputs": [
    {
     "data": {
      "image/png": "[encoded data removed]",
      "text/plain": [
       "<Figure size 1200x800 with 1 Axes>"
      ]
     },
     "metadata": {},
     "output_type": "display_data"
    }
   ],
   "source": [
    "# Plot box plots for summary statistics of numerical columns\n",
    "plt.figure(figsize=(12, 8))\n",
    "sns.boxplot(data=df)\n",
    "plt.xticks(rotation=45)\n",
    "plt.show()"
   ]
  },
  {
   "cell_type": "code",
   "execution_count": 21,
   "id": "c75a67b1",
   "metadata": {
    "execution": {
     "iopub.execute_input": "2024-03-11T08:57:10.251925Z",
     "iopub.status.busy": "2024-03-11T08:57:10.250900Z",
     "iopub.status.idle": "2024-03-11T08:57:10.880382Z",
     "shell.execute_reply": "2024-03-11T08:57:10.879529Z"
    },
    "executionInfo": {
     "elapsed": 1640,
     "status": "ok",
     "timestamp": 1710141630145,
     "user": {
      "displayName": "Shahid Zikria",
      "userId": "08047117160906109752"
     },
     "user_tz": -300
    },
    "id": "s_FbEB6v8Kij",
    "outputId": "1fb72469-5585-4d2b-b96a-552520119599",
    "papermill": {
     "duration": 0.646132,
     "end_time": "2024-03-11T08:57:10.882045",
     "exception": false,
     "start_time": "2024-03-11T08:57:10.235913",
     "status": "completed"
    },
    "tags": []
   },
   "outputs": [
    {
     "data": {
      "image/png": "[encoded data removed]",
      "text/plain": [
       "<Figure size 1000x500 with 2 Axes>"
      ]
     },
     "metadata": {},
     "output_type": "display_data"
    }
   ],
   "source": [
    "plt.figure(figsize=(10,5))\n",
    "sns.heatmap(df.corr(),cmap='YlGnBu',annot=True)\n",
    "plt.show()"
   ]
  },
  {
   "cell_type": "markdown",
   "id": "22698509",
   "metadata": {
    "id": "OrnDCKtX8fWP",
    "papermill": {
     "duration": 0.013862,
     "end_time": "2024-03-11T08:57:10.909939",
     "exception": false,
     "start_time": "2024-03-11T08:57:10.896077",
     "status": "completed"
    },
    "tags": []
   },
   "source": [
    "According to Pearson's correlation, 0 correlation represents no relation. Positive and Negative correlation depicts that there exists some relation.\n",
    "\n",
    "- Column such as T, RH, AH do not have strong correlation with other features.\n",
    "- NO2(GT) and NOx(GT) are having correlation with other features but not that much strong as compared to CO(GT), C6H6(GT) and Columns with PT.\n",
    "- CO(GT) and C6H6(GT) must be the columns which are correlated with all other features and must be the target\n"
   ]
  },
  {
   "cell_type": "code",
   "execution_count": 22,
   "id": "9e941963",
   "metadata": {
    "execution": {
     "iopub.execute_input": "2024-03-11T08:57:10.949205Z",
     "iopub.status.busy": "2024-03-11T08:57:10.945465Z",
     "iopub.status.idle": "2024-03-11T08:57:10.957557Z",
     "shell.execute_reply": "2024-03-11T08:57:10.956788Z"
    },
    "executionInfo": {
     "elapsed": 336,
     "status": "ok",
     "timestamp": 1710141654230,
     "user": {
      "displayName": "Shahid Zikria",
      "userId": "08047117160906109752"
     },
     "user_tz": -300
    },
    "id": "hlZp1zREYpKo",
    "outputId": "d8dbdfd0-6504-467e-e4f3-d9c1e9c5302a",
    "papermill": {
     "duration": 0.031694,
     "end_time": "2024-03-11T08:57:10.959287",
     "exception": false,
     "start_time": "2024-03-11T08:57:10.927593",
     "status": "completed"
    },
    "tags": []
   },
   "outputs": [
    {
     "data": {
      "text/plain": [
       "array([11.9       ,  9.4       ,  9.        ,  9.2       ,  6.5       ,\n",
       "        4.7       ,  3.6       ,  3.3       ,  2.3       ,  1.7       ,\n",
       "        1.3       ,  1.1       ,  1.6       ,  3.2       ,  8.        ,\n",
       "        9.5       ,  6.3       ,  5.        ,  5.2       ,  7.3       ,\n",
       "       11.5       ,  8.8       ,  8.3       , 11.2       , 20.8       ,\n",
       "        8.6       , 24.        , 12.8       ,  2.6       ,  5.9       ,\n",
       "        6.4       ,  4.1       ,  1.9       ,  1.        ,  1.8       ,\n",
       "        4.4       , 17.9       , 22.1       , 14.        , 11.6       ,\n",
       "       10.2       , 11.        , 14.2       , 12.7       , 11.7       ,\n",
       "       19.3       , 18.2       , 20.1       , 14.3       , 21.8       ,\n",
       "        9.6       ,  7.4       ,  5.4       ,  6.2       ,  2.9       ,\n",
       "        5.1       , 11.8       , 15.1       , 12.9       , 16.1       ,\n",
       "       12.3       , 10.6       , 15.5       , 19.6       , 19.2       ,\n",
       "       18.3       , 13.1       , 10.9       ,  9.7       ,  3.7       ,\n",
       "        2.5       ,  2.4       ,  4.2       , 10.7       ,  7.5       ,\n",
       "        8.2       , 12.        , 12.2       , 20.6       , 23.1       ,\n",
       "       14.7       ,  6.9       ,  7.        ,  4.        ,  3.9       ,\n",
       "       25.9       , 26.6       , 14.1       , 14.9       , 15.4       ,\n",
       "       12.1       , 14.8       , 19.9       , 15.3       , 11.1       ,\n",
       "        2.8       ,  2.        ,  3.5       , 16.2       , 19.7       ,\n",
       "       25.1       , 20.        , 22.3       , 20.4       , 14.6       ,\n",
       "       16.6       , 15.8       , 17.8       , 19.1       , 24.9       ,\n",
       "       13.5       ,  9.1       , 21.4       , 21.3       , 12.5       ,\n",
       "       13.7       , 10.4       , 15.2       , 27.        , 15.        ,\n",
       "       15.7       , 13.        ,  8.1       ,  5.5       ,  3.        ,\n",
       "        7.7       , 23.3       , 14.4       , 16.8       , 14.5       ,\n",
       "       21.5       , 26.4       , 26.        , 10.3       ,  8.9       ,\n",
       "        6.6       ,  6.7       , 22.8       , 16.4       , 16.7       ,\n",
       "       19.        , 19.4       , 20.9       , 20.2       , 21.7       ,\n",
       "       19.8       ,  5.8       ,  3.4       ,  3.1       ,  4.3       ,\n",
       "       10.5       ,  9.3       ,  7.6       , 12.4       ,  9.9       ,\n",
       "        2.1       ,  7.1       ,  6.8       ,  4.6       ,  8.4       ,\n",
       "       12.6       ,  7.9       ,  6.1       ,  0.7       ,  0.8       ,\n",
       "       17.7       , 18.4       , 21.        ,  3.8       ,  2.7       ,\n",
       "        1.2       ,  0.6       , 13.4       , 16.9       , 10.1       ,\n",
       "        8.7       , 13.8       ,  5.3       ,  4.9       ,  4.8       ,\n",
       "       23.7       , 10.8       , 11.4       ,  4.5       ,  1.4       ,\n",
       "        0.9       , 24.6       , 21.6       ,  5.7       ,  2.2       ,\n",
       "        6.        ,  8.5       , 10.        ,  5.6       , 23.8       ,\n",
       "       18.9       , 17.1       ,  1.5       , 15.6       , 11.3       ,\n",
       "       10.08310533, 21.2       , 25.        , 20.3       , 20.7       ,\n",
       "       15.9       , 13.6       , 24.1       , 25.4       , 26.7       ,\n",
       "        7.8       , 13.2       , 25.8       ,  9.8       , 16.3       ,\n",
       "       18.        , 22.        , 27.1       , 13.9       ,  0.5       ,\n",
       "        7.2       , 13.3       , 18.1       , 17.3       , 17.5       ,\n",
       "       17.        , 19.5       , 24.4       , 24.2       , 23.2       ,\n",
       "       18.7       , 23.        , 26.8       , 16.5       , 25.3       ,\n",
       "       23.9       , 26.1       , 22.4       , 22.6       , 23.4       ,\n",
       "       24.7       , 21.9       , 24.8       , 17.4       , 26.9       ,\n",
       "       21.1       , 26.5       , 23.6       , 22.7       , 25.5       ,\n",
       "       16.        , 26.2       , 20.5       , 22.2       , 18.5       ,\n",
       "       24.5       , 17.6       , 18.6       , 25.6       , 17.2       ,\n",
       "       23.5       , 22.9       , 22.5       , 25.2       , 26.3       ,\n",
       "       25.7       , 18.8       , 24.3       ,  0.3       ,  0.4       ,\n",
       "        0.2       ,  0.1       ])"
      ]
     },
     "execution_count": 22,
     "metadata": {},
     "output_type": "execute_result"
    }
   ],
   "source": [
    "df['C6H6(GT)'].unique()"
   ]
  },
  {
   "cell_type": "code",
   "execution_count": 23,
   "id": "8fd63c18",
   "metadata": {
    "execution": {
     "iopub.execute_input": "2024-03-11T08:57:10.991204Z",
     "iopub.status.busy": "2024-03-11T08:57:10.990255Z",
     "iopub.status.idle": "2024-03-11T08:57:11.042765Z",
     "shell.execute_reply": "2024-03-11T08:57:11.042026Z"
    },
    "executionInfo": {
     "elapsed": 366,
     "status": "ok",
     "timestamp": 1710135020538,
     "user": {
      "displayName": "Shahid Zikria",
      "userId": "08047117160906109752"
     },
     "user_tz": -300
    },
    "id": "iYDmgz0K8rp0",
    "outputId": "ea7bee53-2f75-44c1-ec3c-ebbec4a831fb",
    "papermill": {
     "duration": 0.06882,
     "end_time": "2024-03-11T08:57:11.044434",
     "exception": false,
     "start_time": "2024-03-11T08:57:10.975614",
     "status": "completed"
    },
    "tags": []
   },
   "outputs": [
    {
     "name": "stdout",
     "output_type": "stream",
     "text": [
      "Train RMSE: 2.300411610635417\n",
      "Test RMSE: 2.301343251892696\n",
      "Train R^2 Score: 0.8527092370260401\n",
      "Test R^2 Score: 0.8473566661180515\n"
     ]
    }
   ],
   "source": [
    "# choosing features and target variable\n",
    "\n",
    "X = df[['CO(GT)', 'PT08.S1(CO)', 'PT08.S2(NMHC)', 'NOx(GT)', 'PT08.S3(NOx)', 'NO2(GT)', 'PT08.S4(NO2)','PT08.S5(O3)']]\n",
    "y = df['C6H6(GT)']\n",
    "\n",
    "# Splitting the data into training and testing sets\n",
    "X_train, X_test, y_train, y_test = train_test_split(X, y, test_size=0.2, random_state=42)\n",
    "\n",
    "model = LinearRegression()\n",
    "model.fit(X_train,y_train)\n",
    "\n",
    "# Predictions\n",
    "y_pred_train = model.predict(X_train)\n",
    "y_pred_test = model.predict(X_test)\n",
    "\n",
    "# Evaluation\n",
    "train_rmse = mean_squared_error(y_train, y_pred_train, squared=False)\n",
    "test_rmse = mean_squared_error(y_test, y_pred_test, squared=False)\n",
    "train_r2 = r2_score(y_train, y_pred_train)\n",
    "test_r2 = r2_score(y_test, y_pred_test)\n",
    "\n",
    "print(\"Train RMSE:\", train_rmse)\n",
    "print(\"Test RMSE:\", test_rmse)\n",
    "print(\"Train R^2 Score:\", train_r2)\n",
    "print(\"Test R^2 Score:\", test_r2)\n"
   ]
  },
  {
   "cell_type": "code",
   "execution_count": 24,
   "id": "f9618728",
   "metadata": {
    "execution": {
     "iopub.execute_input": "2024-03-11T08:57:11.113409Z",
     "iopub.status.busy": "2024-03-11T08:57:11.112450Z",
     "iopub.status.idle": "2024-03-11T08:57:11.237013Z",
     "shell.execute_reply": "2024-03-11T08:57:11.235369Z"
    },
    "executionInfo": {
     "elapsed": 329,
     "status": "ok",
     "timestamp": 1710135315368,
     "user": {
      "displayName": "Shahid Zikria",
      "userId": "08047117160906109752"
     },
     "user_tz": -300
    },
    "id": "b2-uDEjb8sEo",
    "outputId": "31d95812-5ce2-4047-9fbf-f1cd8d670838",
    "papermill": {
     "duration": 0.159411,
     "end_time": "2024-03-11T08:57:11.239279",
     "exception": false,
     "start_time": "2024-03-11T08:57:11.079868",
     "status": "completed"
    },
    "tags": []
   },
   "outputs": [
    {
     "name": "stdout",
     "output_type": "stream",
     "text": [
      "Train RMSE: 1.1600285844596787\n",
      "Test RMSE: 1.2041555348149335\n",
      "Train R^2 Score: 0.962545690768332\n",
      "Test R^2 Score: 0.9582092451406855\n"
     ]
    }
   ],
   "source": [
    "# Training the KNeighborsRegressor model\n",
    "rf_model = KNeighborsRegressor(5)\n",
    "rf_model.fit(X_train, y_train)\n",
    "\n",
    "# Predictions\n",
    "y_pred_train = rf_model.predict(X_train)\n",
    "y_pred_test = rf_model.predict(X_test)\n",
    "\n",
    "# Evaluation\n",
    "train_rmse = mean_squared_error(y_train, y_pred_train, squared=False)\n",
    "test_rmse = mean_squared_error(y_test, y_pred_test, squared=False)\n",
    "train_r2 = r2_score(y_train, y_pred_train)\n",
    "test_r2 = r2_score(y_test, y_pred_test)\n",
    "\n",
    "print(\"Train RMSE:\", train_rmse)\n",
    "print(\"Test RMSE:\", test_rmse)\n",
    "print(\"Train R^2 Score:\", train_r2)\n",
    "print(\"Test R^2 Score:\", test_r2)\n"
   ]
  },
  {
   "cell_type": "code",
   "execution_count": 25,
   "id": "47614121",
   "metadata": {
    "execution": {
     "iopub.execute_input": "2024-03-11T08:57:11.268194Z",
     "iopub.status.busy": "2024-03-11T08:57:11.267847Z",
     "iopub.status.idle": "2024-03-11T08:57:11.295033Z",
     "shell.execute_reply": "2024-03-11T08:57:11.294305Z"
    },
    "executionInfo": {
     "elapsed": 5,
     "status": "ok",
     "timestamp": 1710135287172,
     "user": {
      "displayName": "Shahid Zikria",
      "userId": "08047117160906109752"
     },
     "user_tz": -300
    },
    "id": "r1IlaQ-u8sUd",
    "outputId": "e0127536-c139-4b15-b104-41ffaae37474",
    "papermill": {
     "duration": 0.043519,
     "end_time": "2024-03-11T08:57:11.296741",
     "exception": false,
     "start_time": "2024-03-11T08:57:11.253222",
     "status": "completed"
    },
    "tags": []
   },
   "outputs": [
    {
     "name": "stdout",
     "output_type": "stream",
     "text": [
      "Train RMSE: 0.5882076747281033\n",
      "Test RMSE: 0.5746692957002438\n",
      "Train R^2 Score: 0.6323386580602309\n",
      "Test R^2 Score: 0.6370851961603965\n"
     ]
    }
   ],
   "source": [
    "X = df[['C6H6(GT)','PT08.S1(CO)', 'PT08.S2(NMHC)', 'NOx(GT)', 'PT08.S3(NOx)', 'NO2(GT)', 'PT08.S4(NO2)','PT08.S5(O3)']]\n",
    "y = df['CO(GT)']\n",
    "\n",
    "# Splitting the data into training and testing sets\n",
    "X_train, X_test, y_train, y_test = train_test_split(X, y, test_size=0.2, random_state=42)\n",
    "\n",
    "model = LinearRegression()\n",
    "model.fit(X_train,y_train)\n",
    "\n",
    "# Predictions\n",
    "y_pred_train = model.predict(X_train)\n",
    "y_pred_test = model.predict(X_test)\n",
    "\n",
    "# Evaluation\n",
    "train_rmse = mean_squared_error(y_train, y_pred_train, squared=False)\n",
    "test_rmse = mean_squared_error(y_test, y_pred_test, squared=False)\n",
    "train_r2 = r2_score(y_train, y_pred_train)\n",
    "test_r2 = r2_score(y_test, y_pred_test)\n",
    "\n",
    "print(\"Train RMSE:\", train_rmse)\n",
    "print(\"Test RMSE:\", test_rmse)\n",
    "print(\"Train R^2 Score:\", train_r2)\n",
    "print(\"Test R^2 Score:\", test_r2)"
   ]
  },
  {
   "cell_type": "code",
   "execution_count": 26,
   "id": "f7d5c879",
   "metadata": {
    "execution": {
     "iopub.execute_input": "2024-03-11T08:57:11.370712Z",
     "iopub.status.busy": "2024-03-11T08:57:11.369702Z",
     "iopub.status.idle": "2024-03-11T08:57:11.489957Z",
     "shell.execute_reply": "2024-03-11T08:57:11.489173Z"
    },
    "executionInfo": {
     "elapsed": 953,
     "status": "ok",
     "timestamp": 1710135324631,
     "user": {
      "displayName": "Shahid Zikria",
      "userId": "08047117160906109752"
     },
     "user_tz": -300
    },
    "id": "dZvFIOIg8skD",
    "outputId": "b55b4812-1e66-44ee-88ae-3747a492cae1",
    "papermill": {
     "duration": 0.167066,
     "end_time": "2024-03-11T08:57:11.491645",
     "exception": false,
     "start_time": "2024-03-11T08:57:11.324579",
     "status": "completed"
    },
    "tags": []
   },
   "outputs": [
    {
     "name": "stdout",
     "output_type": "stream",
     "text": [
      "Train RMSE: 0.44337866117135194\n",
      "Test RMSE: 0.5424387479325192\n",
      "Train R^2 Score: 0.791101091948339\n",
      "Test R^2 Score: 0.6766520539750428\n"
     ]
    }
   ],
   "source": [
    "# Training the KNeighborsRegressor model\n",
    "rf_model = KNeighborsRegressor(5)\n",
    "rf_model.fit(X_train, y_train)\n",
    "\n",
    "# Predictions\n",
    "y_pred_train = rf_model.predict(X_train)\n",
    "y_pred_test = rf_model.predict(X_test)\n",
    "\n",
    "# Evaluation\n",
    "train_rmse = mean_squared_error(y_train, y_pred_train, squared=False)\n",
    "test_rmse = mean_squared_error(y_test, y_pred_test, squared=False)\n",
    "train_r2 = r2_score(y_train, y_pred_train)\n",
    "test_r2 = r2_score(y_test, y_pred_test)\n",
    "\n",
    "print(\"Train RMSE:\", train_rmse)\n",
    "print(\"Test RMSE:\", test_rmse)\n",
    "print(\"Train R^2 Score:\", train_r2)\n",
    "print(\"Test R^2 Score:\", test_r2)"
   ]
  },
  {
   "cell_type": "code",
   "execution_count": null,
   "id": "d6a4e5a3",
   "metadata": {
    "papermill": {
     "duration": 0.014642,
     "end_time": "2024-03-11T08:57:11.521353",
     "exception": false,
     "start_time": "2024-03-11T08:57:11.506711",
     "status": "completed"
    },
    "tags": []
   },
   "outputs": [],
   "source": []
  },
  {
   "cell_type": "code",
   "execution_count": null,
   "id": "2ad8ab7a",
   "metadata": {
    "papermill": {
     "duration": 0.014196,
     "end_time": "2024-03-11T08:57:11.550245",
     "exception": false,
     "start_time": "2024-03-11T08:57:11.536049",
     "status": "completed"
    },
    "tags": []
   },
   "outputs": [],
   "source": []
  }
 ],
 "metadata": {
  "colab": {
   "provenance": []
  },
  "kaggle": {
   "accelerator": "none",
   "dataSources": [
    {
     "datasetId": 1057064,
     "sourceId": 1777920,
     "sourceType": "datasetVersion"
    }
   ],
   "dockerImageVersionId": 30664,
   "isGpuEnabled": false,
   "isInternetEnabled": true,
   "language": "python",
   "sourceType": "notebook"
  },
  "kernelspec": {
   "display_name": "Python 3",
   "language": "python",
   "name": "python3"
  },
  "language_info": {
   "codemirror_mode": {
    "name": "ipython",
    "version": 3
   },
   "file_extension": ".py",
   "mimetype": "text/x-python",
   "name": "python",
   "nbconvert_exporter": "python",
   "pygments_lexer": "ipython3",
   "version": "3.10.13"
  },
  "papermill": {
   "default_parameters": {},
   "duration": 9.16005,
   "end_time": "2024-03-11T08:57:12.082639",
   "environment_variables": {},
   "exception": null,
   "input_path": "__notebook__.ipynb",
   "output_path": "__notebook__.ipynb",
   "parameters": {},
   "start_time": "2024-03-11T08:57:02.922589",
   "version": "2.5.0"
  }
 },
 "nbformat": 4,
 "nbformat_minor": 5
}
